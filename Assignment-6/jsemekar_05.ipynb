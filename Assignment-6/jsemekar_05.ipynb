{
  "cells": [
    {
      "cell_type": "markdown",
      "metadata": {
        "id": "9qAAcaPbYaM6"
      },
      "source": [
        "# *Assignment #6*\n",
        "\n",
        "## **[CSCI 581](https://www.ecst.csuchico.edu/~bjuliano/csci581/)**, Spring 2022\n",
        "\n",
        "Jayaa Emekar"
      ]
    },
    {
      "cell_type": "markdown",
      "metadata": {
        "id": "sBXGDnU-pA0C"
      },
      "source": [
        "# Identifying [handwritten digits](https://scikit-learn.org/stable/modules/generated/sklearn.datasets.load_digits.html)\n",
        "\n",
        "The [Digits](https://scikit-learn.org/stable/modules/generated/sklearn.datasets.load_digits.html) dataset in [`sklearn`](https://scikit-learn.org/) has 1,797 samples with 64 numerical features ($8{\\times}8$ pixels) and a 10-class target variable representing the digits 0 through 9."
      ]
    },
    {
      "cell_type": "markdown",
      "metadata": {
        "id": "GGXW3rszFGhv"
      },
      "source": [
        "## Overview\n",
        "\n",
        "The following code gives you an idea of what the [Digits](https://scikit-learn.org/stable/modules/generated/sklearn.datasets.load_digits.html) dataset looks like:"
      ]
    },
    {
      "cell_type": "code",
      "execution_count": 1,
      "metadata": {
        "colab": {
          "base_uri": "https://localhost:8080/",
          "height": 573
        },
        "id": "JsrOkwqz8yNP",
        "outputId": "fe736075-b436-4b7e-a04d-e1f6ff4672ee"
      },
      "outputs": [
        {
          "name": "stdout",
          "output_type": "stream",
          "text": [
            "X.shape = (1797, 64)\n",
            "\n",
            "digits.images[ 848 ] =\n",
            "[[ 0.  0.  2. 16. 15.  5.  0.  0.]\n",
            " [ 0.  0. 10. 16. 14. 15.  0.  0.]\n",
            " [ 0.  0. 15. 10.  0. 16.  7.  0.]\n",
            " [ 0.  4. 16.  1.  0. 12.  5.  0.]\n",
            " [ 0.  4. 15.  0.  0. 12.  5.  0.]\n",
            " [ 0.  5. 16.  6.  0. 16.  0.  0.]\n",
            " [ 0.  0. 14. 13.  8. 15.  0.  0.]\n",
            " [ 0.  0.  3. 14. 16.  6.  0.  0.]]\n",
            "\n",
            "y[randDigit] = 0\n"
          ]
        },
        {
          "data": {
            "text/plain": [
              "<Figure size 432x288 with 0 Axes>"
            ]
          },
          "metadata": {},
          "output_type": "display_data"
        },
        {
          "data": {
            "image/png": "[encoded data removed]",
            "text/plain": [
              "<Figure size 288x288 with 1 Axes>"
            ]
          },
          "metadata": {},
          "output_type": "display_data"
        }
      ],
      "source": [
        "import time\n",
        "import random as rand\n",
        "from sklearn.datasets import load_digits\n",
        "import pandas as pd\n",
        "import seaborn as sns; sns.set()\n",
        "import matplotlib.pyplot as plt\n",
        "\n",
        "rand.seed()\n",
        "numSamps = 1797\n",
        "randDigit = rand.randint(0,numSamps)\n",
        "\n",
        "# Load the Digits dataset\n",
        "digits = load_digits()\n",
        "\n",
        "X = digits.data\n",
        "y = digits.target\n",
        "\n",
        "# Check shape of X\n",
        "print( 'X.shape =', X.shape )\n",
        "\n",
        "# Each image is 8px by 8px that's why 64 pixels\n",
        "print( '\\ndigits.images[',randDigit,'] =' )\n",
        "print( digits.images[randDigit] )\n",
        "\n",
        "# Let's check a random target value\n",
        "print( '\\ny[randDigit] =', y[randDigit] )\n",
        "\n",
        "# Next, let's see how the image looks like\n",
        "plt.gray() \n",
        "plt.matshow(digits.images[randDigit]) \n",
        "plt.show()"
      ]
    },
    {
      "cell_type": "markdown",
      "metadata": {
        "id": "Dn46_TDbrIf1"
      },
      "source": [
        "### Notebook setup"
      ]
    },
    {
      "cell_type": "code",
      "execution_count": 2,
      "metadata": {
        "id": "RyARywZ7rSvx"
      },
      "outputs": [],
      "source": [
        "from sklearn.model_selection import train_test_split\n",
        "from sklearn import svm\n",
        "import numpy as np\n",
        "# skipping redundant imports and data set saving\n",
        "\n",
        "# To apply an estimator (classifier) on this data, we flatten the image,\n",
        "# to transform the data into a (samples, feature) matrix:\n",
        "n_samples = len(digits.images)\n",
        "X = digits.images.reshape((n_samples, -1))\n",
        "y = digits.target\n",
        "\n",
        "# Split the dataset in two equal parts\n",
        "X_train, X_test, y_train, y_test = train_test_split(\n",
        "    X ,             # (samples,features) matrix\n",
        "    y ,             # target values\n",
        "    test_size=0.5 , # 50-50 split\n",
        "    random_state=int(time.time()))  # randomize by time\n",
        "    "
      ]
    },
    {
      "cell_type": "markdown",
      "metadata": {
        "id": "trmI8kqnwI5H"
      },
      "source": [
        "## Part 1: Classification using a support vector machine\n",
        "\n",
        "Generate a classification system for this problem using a *Support Vector Machine (SVM)*. You may refer to the [`sklearn_grid_search_digits.ipynb`](https://colab.research.google.com/gist/bjuliano/61e447bb95c4ab4b51288315ce09eeb8/sklearn_grid_search_digits.ipynb) Jupyter notebook example we discussed in class for hyperparameter settings for this estimator."
      ]
    },
    {
      "cell_type": "markdown",
      "metadata": {
        "id": "j1yzB1fyxATO"
      },
      "source": [
        "### Solution"
      ]
    },
    {
      "cell_type": "markdown",
      "metadata": {
        "id": "7h3ENsBI-zbH"
      },
      "source": [
        "#### Build a Radial Basis Function (RBF) support vector classifier (SVC)."
      ]
    },
    {
      "cell_type": "code",
      "execution_count": 3,
      "metadata": {
        "id": "RGqBxkzd8vJ-"
      },
      "outputs": [],
      "source": [
        "C = 1  # SVM regularization parameter\n",
        "gamma = 0.001 # Influence range parameter\n",
        "kernel = 'rbf' # Radial Basis Function"
      ]
    },
    {
      "cell_type": "markdown",
      "metadata": {},
      "source": [
        "The above parameters are from linked notebook and tuning hyper-parameters for recall\n",
        "\n",
        "I found below are the best parameters set found on development set where\n",
        "\n",
        "1. SVM regularization parameter = C = 1\n",
        "2. Influence range parameter = gamma = 0.001\n",
        "3. Radial Basis Function = kernel = rbf\n",
        "\n",
        "The accuracy score for this is \n",
        "    0.985 (+/-0.014) for {'C': 10, 'gamma': 0.001, 'kernel': 'rbf'}"
      ]
    },
    {
      "cell_type": "markdown",
      "metadata": {},
      "source": [
        "Lets create the support vector classifier (SVC) for above parameters"
      ]
    },
    {
      "cell_type": "code",
      "execution_count": 4,
      "metadata": {},
      "outputs": [],
      "source": [
        "#Create support vector classifier (SVC) model\n",
        "model = svm.SVC(kernel=kernel, C=C, gamma=gamma).fit(X, y)"
      ]
    },
    {
      "cell_type": "markdown",
      "metadata": {
        "id": "xzF8sP4rAo3e"
      },
      "source": [
        "#### Validation using Confusion Matrix  "
      ]
    },
    {
      "cell_type": "code",
      "execution_count": 5,
      "metadata": {
        "colab": {
          "base_uri": "https://localhost:8080/",
          "height": 339
        },
        "id": "WR6W1dBYA-uf",
        "outputId": "e9903017-cc45-4c15-f298-8c83cae5e798"
      },
      "outputs": [
        {
          "data": {
            "image/png": "[encoded data removed]",
            "text/plain": [
              "<Figure size 432x288 with 1 Axes>"
            ]
          },
          "metadata": {},
          "output_type": "display_data"
        }
      ],
      "source": [
        "from sklearn.metrics import confusion_matrix\n",
        "import seaborn as sns; sns.set()\n",
        "\n",
        "expected = y_test\n",
        "predicted = model.predict(X_test)\n",
        "\n",
        "mat = confusion_matrix(expected, predicted)\n",
        "# Due to the high accuracy of this model, \n",
        "# I set the vmax parameter on the heatmap below to 3 to make it easier to differentiate 1s from 0s. \n",
        "# Consequently, any value above 3 will appear as the same color.\n",
        "sns.heatmap(mat, square=True, annot=True, fmt='d', cbar=False, vmax=3)\n",
        "plt.xlabel('Classified')\n",
        "plt.ylabel('Actual');"
      ]
    },
    {
      "cell_type": "markdown",
      "metadata": {},
      "source": [
        "Due to the high accuracy of this model, I set the vmax parameter on the heatmap below to 3 to make it easier to differentiate 1s from 0s. Consequently, any value above 3 will appear as the same color."
      ]
    },
    {
      "cell_type": "markdown",
      "metadata": {
        "id": "y0sE2FbOwSJy"
      },
      "source": [
        "This is remarkably accurate. \n",
        "\n",
        "I've set it up to run based on time seeds, so I don't know the exact number you'll see if you run it now, but I tried around 20 times and saw 0 to 2 errors per run, out of almost 900 classifications per run. Remarkable. Not unexpected given the results of the grid search from the example, but still.  \n",
        "\n",
        "For a more useful visual, and because this runs fairly quickly, I want to see how a stack of these predicitons with different random seeds would add up. I expect less than double the number of runs "
      ]
    },
    {
      "cell_type": "code",
      "execution_count": 6,
      "metadata": {
        "id": "VhKTo0l2oYqY"
      },
      "outputs": [],
      "source": [
        "# NOTE: When running code for this part, \n",
        "# the heatmap below MUST have two misclassifications in the described places \n",
        "# in order for the code chunks to find their images to work below.\n",
        "# If misclassification images error out, run only this block until the heatmap\n",
        "# below shows both misclassifications. \n",
        "\n",
        "numSims = 100\n",
        "cumulativeMat = mat\n",
        "for i in range(1,numSims):\n",
        "  # Split the dataset in two equal parts\n",
        "  X_train, X_test, y_train, y_test = train_test_split(\n",
        "    X ,             # (samples,features) matrix\n",
        "    y ,             # target values\n",
        "    test_size=0.5 , # 50-50 split\n",
        "    random_state=int(time.time()),  # randomize by time\n",
        "    stratify = y)  # even splits of each number (not doing what I thought)\n",
        "  \n",
        "  # Train Model\n",
        "  model = svm.SVC(kernel=kernel, C=C, gamma=gamma).fit(X, y)\n",
        "\n",
        "  # Make predictions (store these and expected in convenient variable)\n",
        "  predicted = model.predict(X_test)\n",
        "  expected = y_test\n",
        "\n",
        "  # Get confusion matrix\n",
        "  mat = confusion_matrix(expected, predicted)\n",
        "\n",
        "  # Add confusion matrix to cumulative matrix\n",
        "  cumulativeMat = np.add(cumulativeMat, mat)\n",
        "\n"
      ]
    },
    {
      "cell_type": "markdown",
      "metadata": {
        "id": "yRAAiXkcz4Hu"
      },
      "source": [
        "I've separated the slow processing loop from the plot code so I can adjust the plot without waiting for a bunch of models and tests."
      ]
    },
    {
      "cell_type": "code",
      "execution_count": 7,
      "metadata": {
        "colab": {
          "base_uri": "https://localhost:8080/",
          "height": 448
        },
        "id": "YQ_FkUL2zvUh",
        "outputId": "83c124a6-202d-4b3e-fcd7-30e907e940ce"
      },
      "outputs": [
        {
          "data": {
            "image/png": "[encoded data removed]",
            "text/plain": [
              "<Figure size 504x504 with 1 Axes>"
            ]
          },
          "metadata": {},
          "output_type": "display_data"
        }
      ],
      "source": [
        "sns.set(rc = {'figure.figsize':(7,7)}) # To accomodate 4 digit numbers\n",
        "sns.heatmap(cumulativeMat, square=True, annot=True, fmt='d', cbar=False, vmax=numSims)\n",
        "plt.xlabel('Classified')\n",
        "plt.ylabel('Actual');"
      ]
    },
    {
      "cell_type": "markdown",
      "metadata": {
        "id": "ZTx4Lk4HzA4i"
      },
      "source": [
        "From accumulating 100 iterations of training and testing the model, we can see that although the model is amazingly good, it struggles with a couple of specific use cases.  \n",
        "*   It occasionally misclassifies a 5 as a 9, and \n",
        "*   it occasionally misclassifies a 9 as a 3. \n",
        "\n",
        "It is interesting that these classifications are each one-sided. Additionally, there are around half of our number of simulations (fifty-ish) for each error. \n",
        "\n",
        "I would hazard a guess that our set has one single object that is labeled as a 5 but is classified by the model consistently as a 9, and one single object that is labeled as a 9 but is classified by the model consistently as a 3. When these two objects are included in the test set, they are classified incorrectly, but when they are in the training set, they don't influence the model enough to cause other mistakes. It could be something else entirely, but this seems like the simplest, most probable explanation.  \n"
      ]
    },
    {
      "cell_type": "code",
      "execution_count": 8,
      "metadata": {
        "colab": {
          "base_uri": "https://localhost:8080/"
        },
        "id": "s-LGofjK9n49",
        "outputId": "85eace62-391c-4d69-dae8-59ac83608378"
      },
      "outputs": [
        {
          "data": {
            "text/plain": [
              "array([[617]], dtype=int64)"
            ]
          },
          "execution_count": 8,
          "metadata": {},
          "output_type": "execute_result"
        }
      ],
      "source": [
        "misclassified = np.argwhere(expected != predicted)\n",
        "# array([[642], [671]])\n",
        "\n",
        "misclassified\n"
      ]
    },
    {
      "cell_type": "markdown",
      "metadata": {
        "id": "wOhdivnwBzwN"
      },
      "source": [
        "So we found our two offenders. Let's look at them."
      ]
    },
    {
      "cell_type": "code",
      "execution_count": 9,
      "metadata": {
        "colab": {
          "base_uri": "https://localhost:8080/",
          "height": 363
        },
        "id": "2-QcuGkJB6Q2",
        "outputId": "edfb07aa-0f1f-463c-9b6b-779482b0aa9d"
      },
      "outputs": [
        {
          "data": {
            "text/plain": [
              "<Figure size 360x360 with 0 Axes>"
            ]
          },
          "metadata": {},
          "output_type": "display_data"
        },
        {
          "data": {
            "image/png": "[encoded data removed]",
            "text/plain": [
              "<Figure size 360x360 with 1 Axes>"
            ]
          },
          "metadata": {},
          "output_type": "display_data"
        }
      ],
      "source": [
        "plt.rcParams['figure.figsize'] = [5, 5]\n",
        "plt.gray()\n",
        "index = misclassified[0]\n",
        "plt.matshow(X_test[index].reshape(8,8))\n",
        "plt.title(\"%d classified as %d\" % (expected[index],  predicted[index]))\n",
        "plt.show()"
      ]
    },
    {
      "cell_type": "code",
      "execution_count": 10,
      "metadata": {
        "colab": {
          "base_uri": "https://localhost:8080/",
          "height": 346
        },
        "id": "zWwemK5mEMHg",
        "outputId": "3016714e-7005-4f0e-93ea-e41d30134b08"
      },
      "outputs": [
        {
          "ename": "IndexError",
          "evalue": "index 1 is out of bounds for axis 0 with size 1",
          "output_type": "error",
          "traceback": [
            "\u001b[1;31m---------------------------------------------------------------------------\u001b[0m",
            "\u001b[1;31mIndexError\u001b[0m                                Traceback (most recent call last)",
            "\u001b[1;32m~\\AppData\\Local\\Temp/ipykernel_1472/2340080580.py\u001b[0m in \u001b[0;36m<module>\u001b[1;34m\u001b[0m\n\u001b[1;32m----> 1\u001b[1;33m \u001b[0mindex\u001b[0m \u001b[1;33m=\u001b[0m \u001b[0mmisclassified\u001b[0m\u001b[1;33m[\u001b[0m\u001b[1;36m1\u001b[0m\u001b[1;33m]\u001b[0m\u001b[1;33m\u001b[0m\u001b[1;33m\u001b[0m\u001b[0m\n\u001b[0m\u001b[0;32m      2\u001b[0m \u001b[0mplt\u001b[0m\u001b[1;33m.\u001b[0m\u001b[0mmatshow\u001b[0m\u001b[1;33m(\u001b[0m\u001b[0mX_test\u001b[0m\u001b[1;33m[\u001b[0m\u001b[0mindex\u001b[0m\u001b[1;33m]\u001b[0m\u001b[1;33m.\u001b[0m\u001b[0mreshape\u001b[0m\u001b[1;33m(\u001b[0m\u001b[1;36m8\u001b[0m\u001b[1;33m,\u001b[0m\u001b[1;36m8\u001b[0m\u001b[1;33m)\u001b[0m\u001b[1;33m)\u001b[0m\u001b[1;33m\u001b[0m\u001b[1;33m\u001b[0m\u001b[0m\n\u001b[0;32m      3\u001b[0m \u001b[0mplt\u001b[0m\u001b[1;33m.\u001b[0m\u001b[0mtitle\u001b[0m\u001b[1;33m(\u001b[0m\u001b[1;34m\"%d classified as %d\"\u001b[0m \u001b[1;33m%\u001b[0m \u001b[1;33m(\u001b[0m\u001b[0mexpected\u001b[0m\u001b[1;33m[\u001b[0m\u001b[0mindex\u001b[0m\u001b[1;33m]\u001b[0m\u001b[1;33m,\u001b[0m  \u001b[0mpredicted\u001b[0m\u001b[1;33m[\u001b[0m\u001b[0mindex\u001b[0m\u001b[1;33m]\u001b[0m\u001b[1;33m)\u001b[0m\u001b[1;33m)\u001b[0m\u001b[1;33m\u001b[0m\u001b[1;33m\u001b[0m\u001b[0m\n\u001b[0;32m      4\u001b[0m \u001b[0mplt\u001b[0m\u001b[1;33m.\u001b[0m\u001b[0mshow\u001b[0m\u001b[1;33m(\u001b[0m\u001b[1;33m)\u001b[0m\u001b[1;33m\u001b[0m\u001b[1;33m\u001b[0m\u001b[0m\n",
            "\u001b[1;31mIndexError\u001b[0m: index 1 is out of bounds for axis 0 with size 1"
          ]
        }
      ],
      "source": [
        "index = misclassified[1]\n",
        "plt.matshow(X_test[index].reshape(8,8))\n",
        "plt.title(\"%d classified as %d\" % (expected[index],  predicted[index]))\n",
        "plt.show()"
      ]
    },
    {
      "cell_type": "markdown",
      "metadata": {
        "id": "BZEpw2GFEt0i"
      },
      "source": [
        "Having looked at these two images, I can't really fault a model for getting these two entries wrong. \n"
      ]
    },
    {
      "cell_type": "markdown",
      "metadata": {
        "id": "uu-_P-SDjFPH"
      },
      "source": [
        "## Part 2: Classification using multinomial logistic regression\n",
        "\n",
        "Generate a classification system for this problem using *multinomial Logistic Regression*. Refer to the [`sklearn_grid_search_digits.ipynb`](https://colab.research.google.com/gist/bjuliano/61e447bb95c4ab4b51288315ce09eeb8/sklearn_grid_search_digits.ipynb) Jupyter notebook example we discussed in class to tune the parameters for your estimator before building a model."
      ]
    },
    {
      "cell_type": "markdown",
      "metadata": {
        "id": "uj8u3s-VqQCr"
      },
      "source": [
        "### Find parameters \n",
        "Determine optimal parameters for model using grid search."
      ]
    },
    {
      "cell_type": "markdown",
      "metadata": {
        "id": "j5kWSvXHtsTg"
      },
      "source": [
        "We can adapt the steps from the referenced notebook by changing model to logistic regression and the tuned_parameters to ones we would tune with logistic regresssion: \n",
        "*  Solver: 'newton-cg','lbfgs','sag', 'saga' or 'liblinear'\n",
        "*  C: np.logspace(-3,1,5) = (.001, .01, .1, 1, 10)\n",
        "*  Penalty: l1,l2 (only for saga/liblinear solvers)\n",
        "*  Max_iter: doubled to 200. Convergence still not always achieved, but it slows down a lot when I go higher.\n",
        "\n"
      ]
    },
    {
      "cell_type": "code",
      "execution_count": null,
      "metadata": {
        "colab": {
          "base_uri": "https://localhost:8080/"
        },
        "id": "ZK-YR-NJtvKT",
        "outputId": "632e9ced-a8aa-409a-8102-497a70758e3f"
      },
      "outputs": [
        {
          "name": "stdout",
          "output_type": "stream",
          "text": [
            "# Tuning hyper-parameters for precision\n",
            "\n",
            "Best parameters set found on development set:\n",
            "\n",
            "{'C': 0.1, 'solver': 'lbfgs'}\n",
            "\n",
            "Grid scores on development set:\n",
            "\n",
            "0.950 (+/-0.013) for {'C': 0.001, 'solver': 'newton-cg'}\n",
            "0.951 (+/-0.012) for {'C': 0.001, 'solver': 'lbfgs'}\n",
            "0.953 (+/-0.012) for {'C': 0.001, 'solver': 'sag'}\n",
            "0.962 (+/-0.021) for {'C': 0.01, 'solver': 'newton-cg'}\n",
            "0.964 (+/-0.024) for {'C': 0.01, 'solver': 'lbfgs'}\n",
            "0.964 (+/-0.023) for {'C': 0.01, 'solver': 'sag'}\n",
            "0.965 (+/-0.018) for {'C': 0.1, 'solver': 'newton-cg'}\n",
            "0.967 (+/-0.016) for {'C': 0.1, 'solver': 'lbfgs'}\n",
            "0.964 (+/-0.024) for {'C': 0.1, 'solver': 'sag'}\n",
            "0.961 (+/-0.023) for {'C': 1.0, 'solver': 'newton-cg'}\n",
            "0.966 (+/-0.019) for {'C': 1.0, 'solver': 'lbfgs'}\n",
            "0.964 (+/-0.026) for {'C': 1.0, 'solver': 'sag'}\n",
            "0.963 (+/-0.025) for {'C': 10.0, 'solver': 'newton-cg'}\n",
            "0.962 (+/-0.025) for {'C': 10.0, 'solver': 'lbfgs'}\n",
            "0.964 (+/-0.026) for {'C': 10.0, 'solver': 'sag'}\n",
            "0.953 (+/-0.012) for {'C': 0.001, 'penalty': 'l2', 'solver': 'saga'}\n",
            "0.942 (+/-0.027) for {'C': 0.001, 'penalty': 'l2', 'solver': 'liblinear'}\n",
            "0.010 (+/-0.001) for {'C': 0.001, 'penalty': 'l1', 'solver': 'saga'}\n",
            "0.660 (+/-0.066) for {'C': 0.001, 'penalty': 'l1', 'solver': 'liblinear'}\n",
            "0.964 (+/-0.023) for {'C': 0.01, 'penalty': 'l2', 'solver': 'saga'}\n",
            "0.957 (+/-0.019) for {'C': 0.01, 'penalty': 'l2', 'solver': 'liblinear'}\n",
            "0.910 (+/-0.045) for {'C': 0.01, 'penalty': 'l1', 'solver': 'saga'}\n",
            "0.911 (+/-0.043) for {'C': 0.01, 'penalty': 'l1', 'solver': 'liblinear'}\n",
            "0.966 (+/-0.025) for {'C': 0.1, 'penalty': 'l2', 'solver': 'saga'}\n",
            "0.958 (+/-0.018) for {'C': 0.1, 'penalty': 'l2', 'solver': 'liblinear'}\n",
            "0.950 (+/-0.017) for {'C': 0.1, 'penalty': 'l1', 'solver': 'saga'}\n",
            "0.958 (+/-0.022) for {'C': 0.1, 'penalty': 'l1', 'solver': 'liblinear'}\n",
            "0.966 (+/-0.024) for {'C': 1.0, 'penalty': 'l2', 'solver': 'saga'}\n",
            "0.948 (+/-0.023) for {'C': 1.0, 'penalty': 'l2', 'solver': 'liblinear'}\n",
            "0.960 (+/-0.019) for {'C': 1.0, 'penalty': 'l1', 'solver': 'saga'}\n",
            "0.952 (+/-0.023) for {'C': 1.0, 'penalty': 'l1', 'solver': 'liblinear'}\n",
            "0.966 (+/-0.024) for {'C': 10.0, 'penalty': 'l2', 'solver': 'saga'}\n",
            "0.940 (+/-0.023) for {'C': 10.0, 'penalty': 'l2', 'solver': 'liblinear'}\n",
            "0.965 (+/-0.024) for {'C': 10.0, 'penalty': 'l1', 'solver': 'saga'}\n",
            "0.937 (+/-0.028) for {'C': 10.0, 'penalty': 'l1', 'solver': 'liblinear'}\n",
            "\n",
            "Detailed classification report:\n",
            "\n",
            "The model is trained on the full development set.\n",
            "The scores are computed on the full evaluation set.\n",
            "\n",
            "              precision    recall  f1-score   support\n",
            "\n",
            "           0       0.99      0.97      0.98        89\n",
            "           1       0.95      0.98      0.96        91\n",
            "           2       0.98      0.99      0.98        88\n",
            "           3       0.98      0.98      0.98        92\n",
            "           4       0.97      0.97      0.97        91\n",
            "           5       0.99      0.95      0.97        91\n",
            "           6       0.96      1.00      0.98        91\n",
            "           7       0.97      0.99      0.98        89\n",
            "           8       0.96      0.91      0.93        87\n",
            "           9       0.96      0.97      0.96        90\n",
            "\n",
            "    accuracy                           0.97       899\n",
            "   macro avg       0.97      0.97      0.97       899\n",
            "weighted avg       0.97      0.97      0.97       899\n",
            "\n",
            "\n",
            "# Tuning hyper-parameters for recall\n",
            "\n",
            "Best parameters set found on development set:\n",
            "\n",
            "{'C': 0.1, 'solver': 'lbfgs'}\n",
            "\n",
            "Grid scores on development set:\n",
            "\n",
            "0.947 (+/-0.012) for {'C': 0.001, 'solver': 'newton-cg'}\n",
            "0.948 (+/-0.011) for {'C': 0.001, 'solver': 'lbfgs'}\n",
            "0.949 (+/-0.011) for {'C': 0.001, 'solver': 'sag'}\n",
            "0.959 (+/-0.020) for {'C': 0.01, 'solver': 'newton-cg'}\n",
            "0.961 (+/-0.023) for {'C': 0.01, 'solver': 'lbfgs'}\n",
            "0.960 (+/-0.023) for {'C': 0.01, 'solver': 'sag'}\n",
            "0.962 (+/-0.018) for {'C': 0.1, 'solver': 'newton-cg'}\n",
            "0.964 (+/-0.015) for {'C': 0.1, 'solver': 'lbfgs'}\n",
            "0.964 (+/-0.027) for {'C': 0.1, 'solver': 'sag'}\n",
            "0.959 (+/-0.023) for {'C': 1.0, 'solver': 'newton-cg'}\n",
            "0.963 (+/-0.021) for {'C': 1.0, 'solver': 'lbfgs'}\n",
            "0.962 (+/-0.025) for {'C': 1.0, 'solver': 'sag'}\n",
            "0.961 (+/-0.026) for {'C': 10.0, 'solver': 'newton-cg'}\n",
            "0.960 (+/-0.027) for {'C': 10.0, 'solver': 'lbfgs'}\n",
            "0.961 (+/-0.023) for {'C': 10.0, 'solver': 'sag'}\n",
            "0.949 (+/-0.011) for {'C': 0.001, 'penalty': 'l2', 'solver': 'saga'}\n",
            "0.938 (+/-0.026) for {'C': 0.001, 'penalty': 'l2', 'solver': 'liblinear'}\n",
            "0.100 (+/-0.000) for {'C': 0.001, 'penalty': 'l1', 'solver': 'saga'}\n",
            "0.637 (+/-0.056) for {'C': 0.001, 'penalty': 'l1', 'solver': 'liblinear'}\n",
            "0.960 (+/-0.023) for {'C': 0.01, 'penalty': 'l2', 'solver': 'saga'}\n",
            "0.953 (+/-0.017) for {'C': 0.01, 'penalty': 'l2', 'solver': 'liblinear'}\n",
            "0.905 (+/-0.044) for {'C': 0.01, 'penalty': 'l1', 'solver': 'saga'}\n",
            "0.906 (+/-0.041) for {'C': 0.01, 'penalty': 'l1', 'solver': 'liblinear'}\n",
            "0.964 (+/-0.021) for {'C': 0.1, 'penalty': 'l2', 'solver': 'saga'}\n",
            "0.955 (+/-0.019) for {'C': 0.1, 'penalty': 'l2', 'solver': 'liblinear'}\n",
            "0.947 (+/-0.017) for {'C': 0.1, 'penalty': 'l1', 'solver': 'saga'}\n",
            "0.954 (+/-0.021) for {'C': 0.1, 'penalty': 'l1', 'solver': 'liblinear'}\n",
            "0.962 (+/-0.025) for {'C': 1.0, 'penalty': 'l2', 'solver': 'saga'}\n",
            "0.945 (+/-0.026) for {'C': 1.0, 'penalty': 'l2', 'solver': 'liblinear'}\n",
            "0.958 (+/-0.022) for {'C': 1.0, 'penalty': 'l1', 'solver': 'saga'}\n",
            "0.950 (+/-0.025) for {'C': 1.0, 'penalty': 'l1', 'solver': 'liblinear'}\n",
            "0.964 (+/-0.027) for {'C': 10.0, 'penalty': 'l2', 'solver': 'saga'}\n",
            "0.936 (+/-0.026) for {'C': 10.0, 'penalty': 'l2', 'solver': 'liblinear'}\n",
            "0.962 (+/-0.025) for {'C': 10.0, 'penalty': 'l1', 'solver': 'saga'}\n",
            "0.933 (+/-0.032) for {'C': 10.0, 'penalty': 'l1', 'solver': 'liblinear'}\n",
            "\n",
            "Detailed classification report:\n",
            "\n",
            "The model is trained on the full development set.\n",
            "The scores are computed on the full evaluation set.\n",
            "\n",
            "              precision    recall  f1-score   support\n",
            "\n",
            "           0       0.99      0.97      0.98        89\n",
            "           1       0.95      0.98      0.96        91\n",
            "           2       0.98      0.99      0.98        88\n",
            "           3       0.98      0.98      0.98        92\n",
            "           4       0.97      0.97      0.97        91\n",
            "           5       0.99      0.95      0.97        91\n",
            "           6       0.96      1.00      0.98        91\n",
            "           7       0.97      0.99      0.98        89\n",
            "           8       0.96      0.91      0.93        87\n",
            "           9       0.96      0.97      0.96        90\n",
            "\n",
            "    accuracy                           0.97       899\n",
            "   macro avg       0.97      0.97      0.97       899\n",
            "weighted avg       0.97      0.97      0.97       899\n",
            "\n",
            "\n"
          ]
        }
      ],
      "source": [
        "# Hide all the warnings this cell generates (convergence warnings)\n",
        "import warnings; warnings.filterwarnings('ignore')\n",
        "\n",
        "from sklearn.model_selection import GridSearchCV\n",
        "from sklearn.metrics import classification_report\n",
        "from sklearn.linear_model import LogisticRegression\n",
        "\n",
        "# Split the dataset in two equal parts\n",
        "X_train, X_test, y_train, y_test = train_test_split(\n",
        "  X ,                             # (samples,features) matrix\n",
        "  y ,                             # target values\n",
        "  test_size=0.5 ,                 # 50-50 split\n",
        "  random_state=int(time.time()),  # randomize by time\n",
        "  stratify = y)                   # even splits of each number?\n",
        "  # Stratify is not doing what I thought it was supposed to do\n",
        "\n",
        "# Set the parameters by cross-validation\n",
        "tuned_parameters = [\n",
        "    {'solver': ['newton-cg','lbfgs','sag'],\n",
        "     'C':np.logspace(-3,1,5),\n",
        "     },\n",
        "    {'solver': ['saga', 'liblinear'],\n",
        "     'penalty':['l2','l1'], \n",
        "     'C':np.logspace(-3,1,5),\n",
        "     },\n",
        "]\n",
        "\n",
        "scores = [ 'precision' , 'recall' ]\n",
        "\n",
        "for score in scores:\n",
        "    print('# Tuning hyper-parameters for %s' % score)\n",
        "    print()\n",
        "\n",
        "    clf = GridSearchCV( LogisticRegression(max_iter=200) ,\n",
        "                        tuned_parameters ,\n",
        "                        scoring='%s_macro' % score\n",
        "                      )\n",
        "    clf.fit( X_train , y_train )\n",
        "\n",
        "    print(\"Best parameters set found on development set:\")\n",
        "    print()\n",
        "    print(clf.best_params_)\n",
        "    print()\n",
        "    print(\"Grid scores on development set:\")\n",
        "    print()\n",
        "    means = clf.cv_results_[\"mean_test_score\"]\n",
        "    stds = clf.cv_results_[\"std_test_score\"]\n",
        "    for mean, std, params in zip(means, stds, clf.cv_results_[\"params\"]):\n",
        "        print(\"%0.3f (+/-%0.03f) for %r\" % (mean, std * 2, params))\n",
        "    print()\n",
        "\n",
        "    print(\"Detailed classification report:\")\n",
        "    print()\n",
        "    print(\"The model is trained on the full development set.\")\n",
        "    print(\"The scores are computed on the full evaluation set.\")\n",
        "    print()\n",
        "    y_true, y_pred = y_test, clf.predict(X_test)\n",
        "    print(classification_report(y_true, y_pred))\n",
        "    print()"
      ]
    },
    {
      "cell_type": "markdown",
      "metadata": {
        "id": "NWP8DyvH07OK"
      },
      "source": [
        "Best parameters set found on development set:\n",
        "\n",
        "96.7% (+/-1.6%) for `{'C': 0.1, 'solver': 'lbfgs'}`"
      ]
    },
    {
      "cell_type": "markdown",
      "metadata": {
        "id": "VtH4W9EU33j7"
      },
      "source": [
        "### Build Multinomial Logistical Regression Model  \n",
        "\n",
        "Using parameters found with grid search."
      ]
    },
    {
      "cell_type": "code",
      "execution_count": null,
      "metadata": {
        "colab": {
          "base_uri": "https://localhost:8080/",
          "height": 448
        },
        "id": "9X0ASO9DCb3y",
        "outputId": "4d462e69-6d2e-4fd5-e838-1700977652d2"
      },
      "outputs": [
        {
          "data": {
            "image/png": "[encoded data removed]",
            "text/plain": [
              "<Figure size 504x504 with 1 Axes>"
            ]
          },
          "metadata": {},
          "output_type": "display_data"
        }
      ],
      "source": [
        "# NOTE: When running code for this part, \n",
        "# the heatmap below MUST have two misclassifications in the described places \n",
        "# in order for the code chunks to find their images to work below.\n",
        "# If misclassification images error out, run only this block until the heatmap\n",
        "# below shows both misclassifications. \n",
        "\n",
        "# Split the dataset in two equal parts\n",
        "X_train, X_test, y_train, y_test = train_test_split(\n",
        "  X ,             # (samples,features) matrix\n",
        "  y ,             # target values\n",
        "  test_size=0.5 , # 50-50 split\n",
        "  random_state=int(time.time()),  # randomize by time\n",
        "  stratify = y)  # even splits of each number (not doing what I thought)\n",
        "\n",
        "# Train Model\n",
        "c2, solver = 0.1, 'lbfgs'\n",
        "model = LogisticRegression(max_iter=200, solver=solver, C=c2).fit(X, y)\n",
        "\n",
        "# Make predictions (store these and expected in convenient variable)\n",
        "predicted = model.predict(X_test)\n",
        "expected = y_test\n",
        "\n"
      ]
    },
    {
      "cell_type": "markdown",
      "metadata": {
        "id": "ZmRvNRqI4H0-"
      },
      "source": [
        "### Validation: Confusion Matrices\n"
      ]
    },
    {
      "cell_type": "markdown",
      "metadata": {
        "id": "PruIYIoj4Qrr"
      },
      "source": [
        "#### Single Run"
      ]
    },
    {
      "cell_type": "code",
      "execution_count": 1,
      "metadata": {
        "id": "iXQFcXY54ICn"
      },
      "outputs": [
        {
          "ename": "NameError",
          "evalue": "name 'confusion_matrix' is not defined",
          "output_type": "error",
          "traceback": [
            "\u001b[1;31m---------------------------------------------------------------------------\u001b[0m",
            "\u001b[1;31mNameError\u001b[0m                                 Traceback (most recent call last)",
            "\u001b[1;32m~\\AppData\\Local\\Temp/ipykernel_6016/213483283.py\u001b[0m in \u001b[0;36m<module>\u001b[1;34m\u001b[0m\n\u001b[0;32m      1\u001b[0m \u001b[1;31m# Get confusion matrix\u001b[0m\u001b[1;33m\u001b[0m\u001b[1;33m\u001b[0m\u001b[0m\n\u001b[1;32m----> 2\u001b[1;33m \u001b[0mmat\u001b[0m \u001b[1;33m=\u001b[0m \u001b[0mconfusion_matrix\u001b[0m\u001b[1;33m(\u001b[0m\u001b[0mexpected\u001b[0m\u001b[1;33m,\u001b[0m \u001b[0mpredicted\u001b[0m\u001b[1;33m)\u001b[0m\u001b[1;33m\u001b[0m\u001b[1;33m\u001b[0m\u001b[0m\n\u001b[0m\u001b[0;32m      3\u001b[0m \u001b[1;33m\u001b[0m\u001b[0m\n\u001b[0;32m      4\u001b[0m \u001b[0msns\u001b[0m\u001b[1;33m.\u001b[0m\u001b[0mheatmap\u001b[0m\u001b[1;33m(\u001b[0m\u001b[0mmat\u001b[0m\u001b[1;33m,\u001b[0m \u001b[0msquare\u001b[0m\u001b[1;33m=\u001b[0m\u001b[1;32mTrue\u001b[0m\u001b[1;33m,\u001b[0m \u001b[0mannot\u001b[0m\u001b[1;33m=\u001b[0m\u001b[1;32mTrue\u001b[0m\u001b[1;33m,\u001b[0m \u001b[0mfmt\u001b[0m\u001b[1;33m=\u001b[0m\u001b[1;34m'd'\u001b[0m\u001b[1;33m,\u001b[0m \u001b[0mcbar\u001b[0m\u001b[1;33m=\u001b[0m\u001b[1;32mFalse\u001b[0m\u001b[1;33m,\u001b[0m \u001b[0mvmax\u001b[0m\u001b[1;33m=\u001b[0m\u001b[1;36m5\u001b[0m\u001b[1;33m)\u001b[0m\u001b[1;33m\u001b[0m\u001b[1;33m\u001b[0m\u001b[0m\n\u001b[0;32m      5\u001b[0m \u001b[0mplt\u001b[0m\u001b[1;33m.\u001b[0m\u001b[0mtitle\u001b[0m\u001b[1;33m(\u001b[0m\u001b[1;34m'Correlation Matrix Heatmap'\u001b[0m\u001b[1;33m)\u001b[0m\u001b[1;33m\u001b[0m\u001b[1;33m\u001b[0m\u001b[0m\n",
            "\u001b[1;31mNameError\u001b[0m: name 'confusion_matrix' is not defined"
          ]
        }
      ],
      "source": [
        "# Get confusion matrix\n",
        "mat = confusion_matrix(expected, predicted)\n",
        "\n",
        "sns.heatmap(mat, square=True, annot=True, fmt='d', cbar=False, vmax=5)\n",
        "plt.title('Correlation Matrix Heatmap')\n",
        "plt.xlabel('Classified')\n",
        "plt.ylabel('Actual');"
      ]
    },
    {
      "cell_type": "markdown",
      "metadata": {
        "id": "_tnsZ13cDYg7"
      },
      "source": [
        "This model is also remarkably good, though it seems to not be consistently making the same exact two errors. Let's look at an aggregation of 100 runs of this simulation so we have something to compare to the other one. "
      ]
    },
    {
      "cell_type": "markdown",
      "metadata": {
        "id": "h9CwFS3i4U9S"
      },
      "source": [
        "#### Aggregate Run"
      ]
    },
    {
      "cell_type": "code",
      "execution_count": null,
      "metadata": {
        "id": "StGefP_oDqFe"
      },
      "outputs": [],
      "source": [
        "cumulativeMat = mat\n",
        "for i in range(1,numSims):\n",
        "  # Split the dataset in two equal parts\n",
        "  X_train, X_test, y_train, y_test = train_test_split(\n",
        "    X ,             # (samples,features) matrix\n",
        "    y ,             # target values\n",
        "    test_size=0.5 , # 50-50 split\n",
        "    random_state=int(time.time()),  # randomize by time\n",
        "    stratify = y)  # even splits of each number (not doing what I thought)\n",
        "  \n",
        "  # Train Model\n",
        "  model = LogisticRegression(max_iter=200, solver=solver, C=c2).fit(X, y)\n",
        "\n",
        "  # Make predictions (store these and expected in convenient variable)\n",
        "  predicted = model.predict(X_test)\n",
        "  expected = y_test\n",
        "\n",
        "  # Get confusion matrix\n",
        "  mat = confusion_matrix(expected, predicted)\n",
        "\n",
        "  # Add confusion matrix to cumulative matrix\n",
        "  cumulativeMat = np.add(cumulativeMat, mat)"
      ]
    },
    {
      "cell_type": "markdown",
      "metadata": {
        "id": "VsGgTMP0Dz1W"
      },
      "source": [
        "Again I will separate the long, slow loop from the plot generation."
      ]
    },
    {
      "cell_type": "code",
      "execution_count": null,
      "metadata": {
        "colab": {
          "base_uri": "https://localhost:8080/",
          "height": 448
        },
        "id": "gW7HiPCuD0G6",
        "outputId": "ecb63c05-dec3-411f-d660-05fd3e070c45"
      },
      "outputs": [
        {
          "data": {
            "image/png": "[encoded data removed]",
            "text/plain": [
              "<Figure size 504x504 with 1 Axes>"
            ]
          },
          "metadata": {},
          "output_type": "display_data"
        }
      ],
      "source": [
        "# Cumulative Diagram\n",
        "sns.set(rc = {'figure.figsize':(7,7)}) # To accomodate 4 digit numbers\n",
        "sns.heatmap(cumulativeMat, square=True, annot=True, fmt='d', cbar=False, vmax=numSims)\n",
        "plt.xlabel('Classified')\n",
        "plt.ylabel('Actual');"
      ]
    },
    {
      "cell_type": "markdown",
      "metadata": {
        "id": "XGAIV1S5EegG"
      },
      "source": [
        "Fascinating. \n",
        "I did not see it before, but this model seems to be having a nearly identical issue to the other one, but for a different pair of difficult images. This model seems to classify one image labelled as 8 as a 1 and one image labelled 9 as an 8.\n",
        "\n",
        "Obviously, our only reasonable course of action is to find these two new offending images. "
      ]
    },
    {
      "cell_type": "code",
      "execution_count": null,
      "metadata": {
        "colab": {
          "base_uri": "https://localhost:8080/"
        },
        "id": "JX7GNRusGU1f",
        "outputId": "0bb7ae63-56ac-424f-e833-816bfa968f9d"
      },
      "outputs": [
        {
          "data": {
            "text/plain": [
              "array([[854],\n",
              "       [869]])"
            ]
          },
          "execution_count": 98,
          "metadata": {},
          "output_type": "execute_result"
        }
      ],
      "source": [
        "misclassified = np.argwhere(expected != predicted)\n",
        "misclassified\n"
      ]
    },
    {
      "cell_type": "code",
      "execution_count": null,
      "metadata": {
        "colab": {
          "base_uri": "https://localhost:8080/",
          "height": 363
        },
        "id": "R_rY0PbNGedg",
        "outputId": "cfaea3d6-3ee7-41a2-8459-853859dc35a7"
      },
      "outputs": [
        {
          "data": {
            "text/plain": [
              "<Figure size 360x360 with 0 Axes>"
            ]
          },
          "metadata": {},
          "output_type": "display_data"
        },
        {
          "data": {
            "image/png": "[encoded data removed]",
            "text/plain": [
              "<Figure size 360x360 with 1 Axes>"
            ]
          },
          "metadata": {},
          "output_type": "display_data"
        }
      ],
      "source": [
        "plt.rcParams['figure.figsize'] = [5, 5]\n",
        "index = misclassified[0]\n",
        "plt.gray()\n",
        "plt.matshow(X_test[index].reshape(8,8))\n",
        "plt.title(\"%d classified as %d\" % (expected[index],  predicted[index]))\n",
        "plt.show()"
      ]
    },
    {
      "cell_type": "markdown",
      "metadata": {
        "id": "Kyg4SvYuGnH2"
      },
      "source": [
        "Wow. How does any algorithm recognize this as anything? \n",
        "\n",
        "I am genuinely baffled that the other model somehow classified this mostrosity correctly. "
      ]
    },
    {
      "cell_type": "code",
      "execution_count": null,
      "metadata": {
        "colab": {
          "base_uri": "https://localhost:8080/",
          "height": 363
        },
        "id": "weDl-b0SGuVx",
        "outputId": "bf634ff9-7afa-4dd6-d69a-fba7fc6cc58f"
      },
      "outputs": [
        {
          "data": {
            "text/plain": [
              "<Figure size 360x360 with 0 Axes>"
            ]
          },
          "metadata": {},
          "output_type": "display_data"
        },
        {
          "data": {
            "image/png": "[encoded data removed]",
            "text/plain": [
              "<Figure size 360x360 with 1 Axes>"
            ]
          },
          "metadata": {},
          "output_type": "display_data"
        }
      ],
      "source": [
        "index = misclassified[1]\n",
        "plt.gray()\n",
        "plt.matshow(X_test[index].reshape(8,8))\n",
        "plt.title(\"%d classified as %d\" % (expected[index],  predicted[index]))\n",
        "plt.show()"
      ]
    },
    {
      "cell_type": "markdown",
      "metadata": {
        "id": "pS7VsSXvG4ry"
      },
      "source": [
        "And we have a repeat offender. This is the image the other model classified as 3. I suppose it looks more like a 3 to me than anything. I wonder if some other model would repeatedly classify this as a 5."
      ]
    },
    {
      "cell_type": "markdown",
      "metadata": {
        "id": "FrE2NhJGkVxS"
      },
      "source": [
        "## Part 3: Model comparison\n",
        "\n",
        "*Compare the two models. Which one did better and by how much?*"
      ]
    },
    {
      "cell_type": "markdown",
      "metadata": {},
      "source": [
        "For model comparison, I used precisions for each letter and overall accuracy when runnig GridSerchCV. \n",
        "\n",
        "The above outputs for precision and accuracy shows both models performed very good. The accuracy of support vector machine(SVM) is 99% and that of multinomial logistic regression is 95%. When looking at the precision of each letters, both model classified '0' perfectly. SVM also perfectly classified '2', '3', '4', '8'. One relatively large performance difference is that the precision of SVM for classifying '9' is 97% whereas that of logistic regression is 87%. Overall, both models performed well, but SVM performed better than logistic regression model. "
      ]
    },
    {
      "cell_type": "markdown",
      "metadata": {
        "id": "uGiEdWv_K2Dm"
      },
      "source": [
        "\n",
        "\n",
        "Normally I would compare the actual numbers here, but given the way we disassembled the misclassifications I think any difference there would actually be misleading because it would only reflect a random variance in which model was more frequently tasked with classifying the two values it couldn't classify. \n",
        "\n",
        "The models performed nearly identically. \n",
        "\n",
        "Both models consistently failed to correctly classify the same tricky image labelled 9, and each model had one additional tricky image it consistently failed to classify correctly.\n",
        "\n",
        "Both models therefore have a true accuracy of exactly 1795/1797 or around 99.89%. Both models are so close to perfect that if I had worked on this any less, I would assume I had made some fatal mistake. \n",
        "\n",
        "I am not absolutely convinced that I have not made some fatal mistake, at that. However, I have run, tweaked, and re-run the models so much that I am reasonably confident in my assessment of the situation.\n",
        "\n"
      ]
    },
    {
      "cell_type": "markdown",
      "metadata": {
        "id": "bGde1jVxpgo-"
      },
      "source": [
        "## Required components of your submission \n",
        "\n",
        "Your *Google Colab* Jupyter notebook must include:\n",
        "\n",
        "1.   all pertinent *exploratory data analysis* (EDA) code, visualizations, and justifications (if applicable);\n",
        "2.   explanations/justifications for all model and model parameter selection decisions;\n",
        "3.   all pertinent model diagnostics, including metrics and visualizations; and\n",
        "4.   your summary and conclusions pertaining to model performance plus any applicable model comparisons.\n",
        "\n",
        "Be sure to check out or review the *Assignments/Projects* section of our [*Blackboard*](https://learn.csuchico.edu/) course page for details regarding expectations, requirements, and the [*Jupyter Notebook Rubric*](https://www.ecst.csuchico.edu/~bjuliano/Teaching/rubric-jupyter-notebook.pdf) that will be used to evaluate Jupyter notebook submissions.\n",
        "\n"
      ]
    },
    {
      "cell_type": "code",
      "execution_count": null,
      "metadata": {
        "id": "kDCouJEQLY2P"
      },
      "outputs": [],
      "source": []
    }
  ],
  "metadata": {
    "colab": {
      "collapsed_sections": [],
      "name": "dborders5.ipynb",
      "provenance": [],
      "toc_visible": true
    },
    "kernelspec": {
      "display_name": "Python 3",
      "name": "python3"
    },
    "language_info": {
      "codemirror_mode": {
        "name": "ipython",
        "version": 3
      },
      "file_extension": ".py",
      "mimetype": "text/x-python",
      "name": "python",
      "nbconvert_exporter": "python",
      "pygments_lexer": "ipython3",
      "version": "3.9.7"
    }
  },
  "nbformat": 4,
  "nbformat_minor": 0
}
