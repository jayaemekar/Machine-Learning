{
  "nbformat": 4,
  "nbformat_minor": 0,
  "metadata": {
    "colab": {
      "name": "581-Assignment-06.ipynb",
      "provenance": [],
      "collapsed_sections": [],
      "toc_visible": true
    },
    "kernelspec": {
      "name": "python3",
      "display_name": "Python 3"
    },
    "language_info": {
      "name": "python"
    }
  },
  "cells": [
    {
      "cell_type": "markdown",
      "metadata": {
        "id": "7NbLKS_n-Hs6"
      },
      "source": [
        "# *Assignment #6*\n",
        "\n",
        "## **[CSCI 581](https://www.ecst.csuchico.edu/~bjuliano/csci581/)**, Spring 2022\n",
        "\n",
        "Your Name Goes Here"
      ]
    },
    {
      "cell_type": "markdown",
      "metadata": {
        "id": "sBXGDnU-pA0C"
      },
      "source": [
        "# Identifying [handwritten digits](https://scikit-learn.org/stable/modules/generated/sklearn.datasets.load_digits.html)\n",
        "\n",
        "The [Digits](https://scikit-learn.org/stable/modules/generated/sklearn.datasets.load_digits.html) dataset in [`sklearn`](https://scikit-learn.org/) has 1,797 samples with 64 numerical features ($8{\\times}8$ pixels) and a 10-class target variable representing the digits 0 through 9."
      ]
    },
    {
      "cell_type": "markdown",
      "metadata": {
        "id": "GGXW3rszFGhv"
      },
      "source": [
        "## Overview\n",
        "\n",
        "The following code gives you an idea of what the [Digits](https://scikit-learn.org/stable/modules/generated/sklearn.datasets.load_digits.html) dataset looks like:"
      ]
    },
    {
      "cell_type": "code",
      "metadata": {
        "colab": {
          "base_uri": "https://localhost:8080/",
          "height": 526
        },
        "id": "JsrOkwqz8yNP",
        "outputId": "03dcc5d4-7540-4de1-d2dc-c493d4cde7e9"
      },
      "source": [
        "from sklearn.datasets import load_digits\n",
        "import pandas as pd\n",
        "import seaborn as sns; sns.set()\n",
        "import matplotlib.pyplot as plt\n",
        "\n",
        "# Load the Digits dataset\n",
        "digits = load_digits()\n",
        "\n",
        "X = digits.data\n",
        "y = digits.target\n",
        "\n",
        "# Check shape of X\n",
        "print( 'X.shape =', X.shape )\n",
        "\n",
        "# Each image is 8px by 8px that's why 64 pixels\n",
        "print( '\\ndigits.images[4] =' )\n",
        "print( digits.images[4] )\n",
        "\n",
        "# Let's check a particular target value\n",
        "print( '\\ny[59] =', y[59] )\n",
        "\n",
        "# Next, let's see how the image looks like\n",
        "plt.gray() \n",
        "plt.matshow(digits.images[59]) \n",
        "plt.show()"
      ],
      "execution_count": null,
      "outputs": [
        {
          "output_type": "stream",
          "name": "stdout",
          "text": [
            "X.shape = (1797, 64)\n",
            "\n",
            "digits.images[4] =\n",
            "[[ 0.  0.  0.  1. 11.  0.  0.  0.]\n",
            " [ 0.  0.  0.  7.  8.  0.  0.  0.]\n",
            " [ 0.  0.  1. 13.  6.  2.  2.  0.]\n",
            " [ 0.  0.  7. 15.  0.  9.  8.  0.]\n",
            " [ 0.  5. 16. 10.  0. 16.  6.  0.]\n",
            " [ 0.  4. 15. 16. 13. 16.  1.  0.]\n",
            " [ 0.  0.  0.  3. 15. 10.  0.  0.]\n",
            " [ 0.  0.  0.  2. 16.  4.  0.  0.]]\n",
            "\n",
            "y[59] = 3\n"
          ]
        },
        {
          "output_type": "display_data",
          "data": {
            "text/plain": [
              "<Figure size 432x288 with 0 Axes>"
            ]
          },
          "metadata": {}
        },
        {
          "output_type": "display_data",
          "data": {
            "image/png": "[encoded data removed]",
            "text/plain": [
              "<Figure size 288x288 with 1 Axes>"
            ]
          },
          "metadata": {}
        }
      ]
    },
    {
      "cell_type": "markdown",
      "metadata": {
        "id": "Dn46_TDbrIf1"
      },
      "source": [
        "### Notebook setup"
      ]
    },
    {
      "cell_type": "code",
      "metadata": {
        "id": "RyARywZ7rSvx"
      },
      "source": [
        "from sklearn import datasets\n",
        "from sklearn.model_selection import train_test_split\n",
        "import time\n",
        "\n",
        "# Load the Digits dataset\n",
        "digits = datasets.load_digits()\n",
        "\n",
        "# To apply an estimator (classifier) on this data, we flatten the image,\n",
        "# to transform the data into a (samples, feature) matrix:\n",
        "n_samples = len(digits.images)\n",
        "X = digits.images.reshape((n_samples, -1))\n",
        "y = digits.target\n",
        "\n",
        "# Split the dataset in two equal parts\n",
        "X_train, X_test, y_train, y_test = train_test_split(\n",
        "    X ,             # (samples,features) matrix\n",
        "    y ,             # target values\n",
        "    test_size=0.5 , # 50-50 split\n",
        "    random_state=int(time.time()) \n",
        "    )"
      ],
      "execution_count": null,
      "outputs": []
    },
    {
      "cell_type": "markdown",
      "metadata": {
        "id": "trmI8kqnwI5H"
      },
      "source": [
        "## Part 1: Classification using a support vector machine\n",
        "\n",
        "Generate a classification system for this problem using a *Support Vector Machine (SVM)*. You may refer to the [`sklearn_grid_search_digits.ipynb`](https://colab.research.google.com/gist/bjuliano/61e447bb95c4ab4b51288315ce09eeb8/sklearn_grid_search_digits.ipynb) Jupyter notebook example we discussed in class for hyperparameter settings for this estimator."
      ]
    },
    {
      "cell_type": "markdown",
      "metadata": {
        "id": "j1yzB1fyxATO"
      },
      "source": [
        "### Solution"
      ]
    },
    {
      "cell_type": "markdown",
      "metadata": {
        "id": "uu-_P-SDjFPH"
      },
      "source": [
        "## Part 2: Classification using multinomial logistic regression\n",
        "\n",
        "Generate a classification system for this problem using *multinomial Logistic Regression*. Refer to the [`sklearn_grid_search_digits.ipynb`](https://colab.research.google.com/gist/bjuliano/61e447bb95c4ab4b51288315ce09eeb8/sklearn_grid_search_digits.ipynb) Jupyter notebook example we discussed in class to tune the parameters for your estimator before building a model."
      ]
    },
    {
      "cell_type": "markdown",
      "metadata": {
        "id": "uj8u3s-VqQCr"
      },
      "source": [
        "### Solution"
      ]
    },
    {
      "cell_type": "markdown",
      "metadata": {
        "id": "FrE2NhJGkVxS"
      },
      "source": [
        "## Part 3: Model comparison\n",
        "\n",
        "Compare the two models. Which one did better and by how much?"
      ]
    },
    {
      "cell_type": "markdown",
      "metadata": {
        "id": "WctcxcJKlfva"
      },
      "source": [
        "### Solution"
      ]
    },
    {
      "cell_type": "markdown",
      "metadata": {
        "id": "bGde1jVxpgo-"
      },
      "source": [
        "## Required components of your submission \n",
        "\n",
        "Your *Google Colab* Jupyter notebook must include:\n",
        "\n",
        "1.   all pertinent *exploratory data analysis* (EDA) code, visualizations, and justifications (if applicable);\n",
        "2.   explanations/justifications for all model and model parameter selection decisions;\n",
        "3.   all pertinent model diagnostics, including metrics and visualizations; and\n",
        "4.   your summary and conclusions pertaining to model performance plus any applicable model comparisons.\n",
        "\n",
        "Be sure to check out or review the *Assignments/Projects* section of our [*Blackboard*](https://learn.csuchico.edu/) course page for details regarding expectations, requirements, and the [*Jupyter Notebook Rubric*](https://www.ecst.csuchico.edu/~bjuliano/Teaching/rubric-jupyter-notebook.pdf) that will be used to evaluate Jupyter notebook submissions.\n",
        "\n"
      ]
    }
  ]
}