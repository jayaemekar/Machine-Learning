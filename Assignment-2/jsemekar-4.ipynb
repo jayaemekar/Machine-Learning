{
  "nbformat": 4,
  "nbformat_minor": 0,
  "metadata": {
    "colab": {
      "name": "581-Assignment-04.ipynb",
      "provenance": [],
      "collapsed_sections": []
    },
    "kernelspec": {
      "name": "python3",
      "display_name": "Python 3"
    },
    "language_info": {
      "name": "python"
    }
  },
  "cells": [
    {
      "cell_type": "markdown",
      "metadata": {
        "id": "7NbLKS_n-Hs6"
      },
      "source": [
        "# *Assignment #4*\n",
        "\n",
        "## **[CSCI 581](https://www.ecst.csuchico.edu/~bjuliano/csci581/)**, Spring 2022\n",
        "\n",
        "Your Name Goes Here"
      ]
    },
    {
      "cell_type": "markdown",
      "source": [
        "## Predicting house prices in California\n",
        "\n",
        "In this exercise, you will be working with the [California housing dataset (regression)](https://scikit-learn.org/stable/modules/generated/sklearn.datasets.fetch_california_housing.html) available from Scikit-learn. The original dataset is from *StatLib* (see http://lib.stat.cmu.edu/datasets/).\n",
        "\n",
        "This dataset was derived from the 1990 U.S. census, using one row per census\n",
        "*block group*. A block group is the smallest geographical unit for which the U.S.\n",
        "Census Bureau publishes sample data (a block group typically has a population\n",
        "of 600 to 3,000 people).\n",
        "\n",
        "A *household* is a group of people residing within a home. Since the average\n",
        "number of rooms and bedrooms in this dataset are provided per household, these\n",
        "columns may take surpinsingly large values for block groups with few households\n",
        "and many empty houses, such as vacation resorts."
      ],
      "metadata": {
        "id": "fgREmfF2sFQU"
      }
    },
    {
      "cell_type": "markdown",
      "metadata": {
        "id": "IHH3GSRfvNzO"
      },
      "source": [
        "## Data\n",
        "\n",
        "The dataset contains 20,640 observations on 9 numeric attributes.\n",
        "The target attribute is `MedHouseVal`, the median house value for California districts, expressed in hundreds of thousands of dollars ($100,000). The other attributes are:\n",
        "\n",
        "*   `MedInc`: median income in block group\n",
        "*   `HouseAge`: median house age in block group\n",
        "*   `AveRooms`: average number of rooms per household\n",
        "*   `AveBedrms`: average number of bedrooms per household\n",
        "*   `Population`: block group population\n",
        "*   `AveOccup`: average number of household members\n",
        "*   `Latitude`: block group latitude\n",
        "*   `Longitude`: block group longitude\n",
        "\n"
      ]
    },
    {
      "cell_type": "markdown",
      "metadata": {
        "id": "bGde1jVxpgo-"
      },
      "source": [
        "## Required components of your submission \n",
        "\n",
        "Your *Google Colab* Jupyter notebook must include:\n",
        "\n",
        "1.   all pertinent *exploratory data analysis* (EDA) code, visualizations, and justifications;\n",
        "\n",
        "    a) Confirm that there is no missing data.\n",
        "\n",
        "    b) Generate a histogram view of the all the attributes in the dataset using the [`hist()`](https://pandas.pydata.org/docs/reference/api/pandas.DataFrame.hist.html) method in `pandas`.\n",
        "\n",
        "    c) Use the `Latitude` and `Longitude` attributes to visualize the locations associated with high-valued houses. Generate a scatter plot where the x- and y-axis would be the latitude and longitude, and the circle size and color would be linked with the house value in the district. What does the plot tell you?\n",
        "\n",
        "    d) Use the correlation matrix approach for feature selection and select a subset of the 8 predicting attributes to use for model building.\n",
        "\n",
        "2.   use of the [`LinearRegression`](https://scikit-learn.org/stable/modules/generated/sklearn.linear_model.LinearRegression.html) estimator to build a model that will predict the median house value given the predicting attributes you selected\n",
        "\n",
        "    a) Use the default values for a (multiple) linear regressor just like we did in class.\n",
        "    \n",
        "    b) Consider the use of a (multiple) polynomial regressor to improve the performance of your model, if applicable.\n",
        "\n",
        "3.   all pertinent model diagnostics, including metrics and visualizations; and\n",
        "4.   your final model equation.\n",
        "\n",
        "Be sure to check out or review the *Assignments/Projects* section of our [*Blackboard*](https://learn.csuchico.edu/) course page for details regarding expectations, requirements, and the [*Jupyter Notebook Rubric*](https://www.ecst.csuchico.edu/~bjuliano/Teaching/rubric-jupyter-notebook.pdf) that will be used to evaluate Jupyter notebook submissions.\n",
        "\n"
      ]
    },
    {
      "cell_type": "markdown",
      "metadata": {
        "id": "I25SaMi_1Pfm"
      },
      "source": [
        "# Solution"
      ]
    }
  ]
}