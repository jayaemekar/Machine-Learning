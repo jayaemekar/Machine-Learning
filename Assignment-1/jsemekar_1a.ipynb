{
  "cells": [
    {
      "cell_type": "markdown",
      "metadata": {
        "id": "uDU2kJaw9JcI"
      },
      "source": [
        "### *Assignment #1*\n",
        "#### **[CSCI 581](https://www.ecst.csuchico.edu/~bjuliano/csci581/)**, Spring 2022\n",
        "Jayarani Emekar"
      ]
    },
    {
      "cell_type": "markdown",
      "metadata": {
        "id": "Xpcsq0cp-eRq"
      },
      "source": [
        "#### Tasks\n",
        "1. Write two versions of a program that accomplishes the same task. In both instances, you are not allowed to use any Python libraries (so, use of the sorted() function or use of import instructions are not allowed).\n",
        "2. The task is to calculate the median value of a list of integers. Hard code your list of integers so that we do not have to worry about input for this assignment. You need to display the list of integers, then display the median value.\n",
        "3. For the first version, do not use any functions - just write the code \"straight line.\"\n",
        "4. For the second version, write a function to display the list of integers, and a function that calculates the median value of a list of integers."
      ]
    },
    {
      "cell_type": "markdown",
      "metadata": {
        "id": "n3A4-2am-jS8"
      },
      "source": [
        "##### Step 1 : Define a list"
      ]
    },
    {
      "cell_type": "code",
      "execution_count": 10,
      "metadata": {
        "colab": {
          "base_uri": "https://localhost:8080/"
        },
        "id": "ro6AinmUUqne",
        "outputId": "59feeef8-9168-46eb-e02f-e827ff9cf982"
      },
      "outputs": [
        {
          "name": "stdout",
          "output_type": "stream",
          "text": [
            "Elements of the list : \n",
            "[-1, -3, 12, 6, 24, 21, -27, 18]\n"
          ]
        }
      ],
      "source": [
        "myList = [-1, -3, 12, 6, 24, 21, -27, 18]\n",
        "print(\"Elements of the list : \")\n",
        "print(myList)"
      ]
    },
    {
      "cell_type": "markdown",
      "metadata": {
        "id": "uzXT5r0PVIYy"
      },
      "source": [
        "##### Step 2: Sort the list"
      ]
    },
    {
      "cell_type": "code",
      "execution_count": 11,
      "metadata": {},
      "outputs": [
        {
          "name": "stdout",
          "output_type": "stream",
          "text": [
            "Sorted List [-27, -3, -1, 6, 12, 18, 21, 24]\n"
          ]
        }
      ],
      "source": [
        "for i in range(len(myList)):\n",
        "    for j in range(i + 1, len(myList)):\n",
        "\n",
        "        if myList[i] > myList[j]:\n",
        "           myList[i], myList[j] = myList[j], myList[i]\n",
        "\n",
        "print(\"Sorted List\", myList)"
      ]
    },
    {
      "cell_type": "markdown",
      "metadata": {
        "id": "wNrT8SWxVMje"
      },
      "source": [
        "##### Step 3: Find the median"
      ]
    },
    {
      "cell_type": "code",
      "execution_count": 12,
      "metadata": {
        "colab": {
          "base_uri": "https://localhost:8080/"
        },
        "id": "qh4_M5RjQ0Fd",
        "outputId": "77a6966f-e0a9-4036-dad2-b784b8bb097d"
      },
      "outputs": [
        {
          "name": "stdout",
          "output_type": "stream",
          "text": [
            "Median of the List 9.0\n"
          ]
        }
      ],
      "source": [
        "if len(myList)%2 == 1:\n",
        "  median = myList[len(myList)//2]\n",
        "else:\n",
        "  median = (myList[len(myList)//2-1] + myList[len(myList)//2] )/2\n",
        "\n",
        "print(\"Median of the List\" ,median)"
      ]
    },
    {
      "cell_type": "markdown",
      "metadata": {},
      "source": [
        "."
      ]
    }
  ],
  "metadata": {
    "colab": {
      "collapsed_sections": [],
      "name": "rhaba-1a.ipynb",
      "provenance": [],
      "toc_visible": true
    },
    "kernelspec": {
      "display_name": "Python 3",
      "name": "python3"
    },
    "language_info": {
      "codemirror_mode": {
        "name": "ipython",
        "version": 3
      },
      "file_extension": ".py",
      "mimetype": "text/x-python",
      "name": "python",
      "nbconvert_exporter": "python",
      "pygments_lexer": "ipython3",
      "version": "3.9.7"
    }
  },
  "nbformat": 4,
  "nbformat_minor": 0
}
