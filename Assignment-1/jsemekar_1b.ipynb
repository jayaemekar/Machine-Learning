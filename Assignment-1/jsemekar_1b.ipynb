{
  "cells": [
    {
      "cell_type": "markdown",
      "metadata": {
        "id": "uDU2kJaw9JcI"
      },
      "source": [
        "### Assignment #1\n",
        "#### **[CSCI 581](https://www.ecst.csuchico.edu/~bjuliano/csci581/)**, Spring 2022\n",
        "\n",
        "Jayarani Emekar"
      ]
    },
    {
      "cell_type": "markdown",
      "metadata": {
        "id": "JgLVC5gN9xps"
      },
      "source": [
        "#### Tasks\n",
        "1. Write two versions of a program that accomplishes the same task. In both instances, you are not allowed to use any Python libraries (so, use of the sorted() function or use of import instructions are not allowed).\n",
        "2. The task is to calculate the median value of a list of integers. Hard code your list of integers so that we do not have to worry about input for this assignment. You need to display the list of integers, then display the median value.\n",
        "3. For the first version, do not use any functions - just write the code \"straight line.\"\n",
        "4. For the second version, write a function to display the list of integers, and a function that calculates the median value of a list of integers."
      ]
    },
    {
      "cell_type": "markdown",
      "metadata": {
        "id": "Xpcsq0cp-eRq"
      },
      "source": [
        "### Solution"
      ]
    },
    {
      "cell_type": "markdown",
      "metadata": {
        "id": "n3A4-2am-jS8"
      },
      "source": [
        "##### Step 1: Define a list"
      ]
    },
    {
      "cell_type": "code",
      "execution_count": 8,
      "metadata": {
        "id": "ro6AinmUUqne"
      },
      "outputs": [],
      "source": [
        "myList = [-1, -3, 12, 6, 24, 21, -27, 18]"
      ]
    },
    {
      "cell_type": "markdown",
      "metadata": {
        "id": "uzXT5r0PVIYy"
      },
      "source": [
        "##### Step 2: Define a function to display a list"
      ]
    },
    {
      "cell_type": "code",
      "execution_count": 9,
      "metadata": {
        "colab": {
          "base_uri": "https://localhost:8080/"
        },
        "id": "x25N7FsYbC_y",
        "outputId": "4b48d6af-92ee-453e-ccef-c9eba4b82fc0"
      },
      "outputs": [],
      "source": [
        "def display( list ):\n",
        "  print(\"Elements of the list are\")\n",
        "  print(list)"
      ]
    },
    {
      "cell_type": "markdown",
      "metadata": {},
      "source": [
        "##### Step 3: Using function display the list"
      ]
    },
    {
      "cell_type": "code",
      "execution_count": 10,
      "metadata": {},
      "outputs": [
        {
          "name": "stdout",
          "output_type": "stream",
          "text": [
            "Elements of the list are\n",
            "[-1, -3, 12, 6, 24, 21, -27, 18]\n"
          ]
        }
      ],
      "source": [
        "display(myList)"
      ]
    },
    {
      "cell_type": "markdown",
      "metadata": {},
      "source": [
        "##### Step 4: Define a function to sort the list"
      ]
    },
    {
      "cell_type": "code",
      "execution_count": 11,
      "metadata": {},
      "outputs": [],
      "source": [
        "def get_sorted_List (list):\n",
        "  #Sort the list first\n",
        "  for start in range(0, len(list)):\n",
        "    min = list[start]\n",
        "    index = start\n",
        "    for i in range(start, len(list)):\n",
        "      if list[i] < min:\n",
        "        min = list[i]\n",
        "        index = i\n",
        "    #swap\n",
        "    temp = list[start]\n",
        "    list[start] = min\n",
        "    list[index] = temp\n",
        "    \n",
        "  return list"
      ]
    },
    {
      "cell_type": "markdown",
      "metadata": {
        "id": "wNrT8SWxVMje"
      },
      "source": [
        "##### Step 4: Define a function to calculate a median value"
      ]
    },
    {
      "cell_type": "code",
      "execution_count": 12,
      "metadata": {
        "colab": {
          "base_uri": "https://localhost:8080/"
        },
        "id": "qh4_M5RjQ0Fd",
        "outputId": "18a11f60-f66e-4a2a-ef4f-08dd5df27a07"
      },
      "outputs": [],
      "source": [
        "def get_median (sorted_list):\n",
        "  ##Find a median value\n",
        "  if len(sorted_list)%2 == 1:\n",
        "    median = sorted_list[len(sorted_list)//2]\n",
        "  else:\n",
        "    median = (sorted_list[len(sorted_list)//2-1] + sorted_list[len(sorted_list)//2] )/2\n",
        "  \n",
        "  return median"
      ]
    },
    {
      "cell_type": "markdown",
      "metadata": {},
      "source": [
        "##### Step 5: Print sorted List"
      ]
    },
    {
      "cell_type": "code",
      "execution_count": 13,
      "metadata": {},
      "outputs": [
        {
          "name": "stdout",
          "output_type": "stream",
          "text": [
            "Elements of list in sorted order\n",
            "[-27, -3, -1, 6, 12, 18, 21, 24]\n"
          ]
        }
      ],
      "source": [
        "sorted_list = get_sorted_List(myList)\n",
        "print(\"Elements of list in sorted order\")\n",
        "print(sorted_list)"
      ]
    },
    {
      "cell_type": "markdown",
      "metadata": {},
      "source": [
        "##### Step 6: Print median of the List"
      ]
    },
    {
      "cell_type": "code",
      "execution_count": 14,
      "metadata": {},
      "outputs": [
        {
          "name": "stdout",
          "output_type": "stream",
          "text": [
            "median of the list is  9.0\n"
          ]
        }
      ],
      "source": [
        "median = get_median(sorted_list);\n",
        "print(\"median of the list is \",median)"
      ]
    }
  ],
  "metadata": {
    "colab": {
      "name": "rhaba-1b.ipynb",
      "provenance": [],
      "toc_visible": true
    },
    "kernelspec": {
      "display_name": "Python 3",
      "name": "python3"
    },
    "language_info": {
      "codemirror_mode": {
        "name": "ipython",
        "version": 3
      },
      "file_extension": ".py",
      "mimetype": "text/x-python",
      "name": "python",
      "nbconvert_exporter": "python",
      "pygments_lexer": "ipython3",
      "version": "3.9.7"
    }
  },
  "nbformat": 4,
  "nbformat_minor": 0
}
