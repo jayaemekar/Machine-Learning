{
  "nbformat": 4,
  "nbformat_minor": 0,
  "metadata": {
    "colab": {
      "name": "581-Assignment-07.ipynb",
      "provenance": [],
      "collapsed_sections": []
    },
    "kernelspec": {
      "name": "python3",
      "display_name": "Python 3"
    },
    "language_info": {
      "name": "python"
    }
  },
  "cells": [
    {
      "cell_type": "markdown",
      "metadata": {
        "id": "7NbLKS_n-Hs6"
      },
      "source": [
        "# *Assignment #7*\n",
        "\n",
        "## **[CSCI 581](https://www.ecst.csuchico.edu/~bjuliano/csci581/)**, Spring 2022\n",
        "\n",
        "Your Name Goes Here"
      ]
    },
    {
      "cell_type": "markdown",
      "metadata": {
        "id": "sBXGDnU-pA0C"
      },
      "source": [
        "# One-versus-Many: Predicting passenger survival on the *Titanic* using decision trees\n",
        "\n",
        "**Note:** The dataset is from the [Vanderbilt Biostatistics Datasets](https://hbiostat.org/data/)."
      ]
    },
    {
      "cell_type": "markdown",
      "metadata": {
        "id": "GGXW3rszFGhv"
      },
      "source": [
        "## Overview\n",
        "\n",
        "Having worked with the *Titanic* dataset using logistic regression and naive Bayes to predict the survivability of passengers on the *Titanic*, it is time to try out decision trees on this dataset.\n",
        "\n",
        "Using scikit-learn and the [`titanic.csv`](https://www.ecst.csuchico.edu/~bjuliano/csci581/datasets/titanic.csv) dataset, you will\n",
        "\n",
        "1.   Develop a [`DecisionTreeClassifier`](https://scikit-learn.org/stable/modules/generated/sklearn.tree.DecisionTreeClassifier.html) classifier.\n",
        "2.   Develop a [`RandomForestClassifier`](https://scikit-learn.org/stable/modules/generated/sklearn.ensemble.RandomForestClassifier.html) classifier. For this classifier, be sure to find an optimal forest size (*i.e.* value for the `n_estimators` parameter).\n",
        "3.   Compare the performance of the two classifiers when predicting whether a passenger will survive or not. Explain which of the two classifiers demonstrates the better performance and why you believe that is the case.\n",
        "\n"
      ]
    },
    {
      "cell_type": "markdown",
      "metadata": {
        "id": "IHH3GSRfvNzO"
      },
      "source": [
        "## Data\n",
        "\n",
        "You will be using the same [`titanic.csv`](https://www.ecst.csuchico.edu/~bjuliano/csci581/datasets/titanic.csv) dataset we used in Assignments #3 and #4.\n",
        "\n",
        "The file [`titanic.csv`](https://www.ecst.csuchico.edu/~bjuliano/csci581/datasets/titanic.csv) contains the details of the 1309 passengers on board and importantly, will reveal whether they survived or not.\n",
        "The dataset file details include:\n",
        "\n",
        "*   `pclass`: passenger class; proxy for socio-economic status (1st ~ upper, 2nd ~ middle, 3rd ~ lower)\n",
        "*   `survived`: survival status (0=No, 1=Yes)\n",
        "*   `name`: passenger name\n",
        "*   `sex`: passenger sex (male, female)\n",
        "*   `age`: passenger age in years (fractional if age is less than 1; if age is estimated, it is in the form xx.5)\n",
        "*   `sibsp`: number of siblings/spouses aboard (includes step-siblings; mistresses and fiances ignored)\n",
        "*   `parch`: number of parents/children aboard (parent only considers mother or father; child includes stepchildren)\n",
        "*   `ticket`: ticket number\n",
        "*   `fare`: passenger fare (in pre-1970 British pounds)\n",
        "*   `cabin`: cabin number\n",
        "*   `embarked`: port of embarkation (C=Cherbourg, Q=Queenstown, S=Southampton)\n",
        "*   `boat`: lifeboat number (if passenger boarded one)\n",
        "*   `body`: body identification number\n",
        "*   `home.dest`: passenger home/destination\n"
      ]
    },
    {
      "cell_type": "markdown",
      "metadata": {
        "id": "bGde1jVxpgo-"
      },
      "source": [
        "## Required components of your submission \n",
        "\n",
        "Your *Google Colab* Jupyter notebook must include:\n",
        "\n",
        "1.   all pertinent *exploratory data analysis* (EDA) code, visualizations, and justifications (you can reuse, perhaps with minimal modification, the work you did in your earlier Assignments);\n",
        "2.   explanations/justifications for all model selection decisions;\n",
        "3.   all pertinent model diagnostics, including metrics and visualizations; and\n",
        "4.   your summary and conclusions pertaining to how the two models compare against each other.\n",
        "\n",
        "Be sure to check out or review the *Assignments/Projects* section of our [*Blackboard*](https://learn.csuchico.edu/) course page for details regarding expectations, requirements, and the [*Jupyter Notebook Rubric*](https://www.ecst.csuchico.edu/~bjuliano/Teaching/rubric-jupyter-notebook.pdf) that will be used to evaluate Jupyter notebook submissions.\n",
        "\n"
      ]
    },
    {
      "cell_type": "markdown",
      "metadata": {
        "id": "I25SaMi_1Pfm"
      },
      "source": [
        "# Solution"
      ]
    },
    {
      "cell_type": "markdown",
      "metadata": {
        "id": "Q7VHCoeIA_Qq"
      },
      "source": [
        "# Conclusions"
      ]
    }
  ]
}