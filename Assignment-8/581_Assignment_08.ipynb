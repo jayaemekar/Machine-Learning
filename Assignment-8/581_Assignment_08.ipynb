{
  "nbformat": 4,
  "nbformat_minor": 0,
  "metadata": {
    "colab": {
      "name": "581-Assignment-08.ipynb",
      "provenance": [],
      "collapsed_sections": []
    },
    "kernelspec": {
      "name": "python3",
      "display_name": "Python 3"
    },
    "language_info": {
      "name": "python"
    }
  },
  "cells": [
    {
      "cell_type": "markdown",
      "metadata": {
        "id": "7NbLKS_n-Hs6"
      },
      "source": [
        "# *Assignment #8*\n",
        "\n",
        "## **[CSCI 581](https://www.ecst.csuchico.edu/~bjuliano/csci581/)**, Spring 2022\n",
        "\n",
        "Your Name Goes Here"
      ]
    },
    {
      "cell_type": "markdown",
      "metadata": {
        "id": "sBXGDnU-pA0C"
      },
      "source": [
        "# Finding clusters in the Iris dataset\n",
        "\n",
        "You will be treating the [Iris dataset](https://scikit-learn.org/stable/modules/generated/sklearn.datasets.load_iris.html), available from Scikit-learn, as unlabeled data to perform clustering via the [`KMeans`](https://scikit-learn.org/stable/modules/generated/sklearn.cluster.KMeans.html) estimator."
      ]
    },
    {
      "cell_type": "markdown",
      "metadata": {
        "id": "GGXW3rszFGhv"
      },
      "source": [
        "## Overview\n",
        "\n",
        "Scikit-learn's [Iris dataset](https://scikit-learn.org/stable/modules/generated/sklearn.datasets.load_iris.html) is labeled data that we have used in supervised learning. To use it as unlabeled data for unsupervised learning, you will need to drop the last column from the training set before running the `fit()` method on an instance of the [`KMeans`](https://scikit-learn.org/stable/modules/generated/sklearn.cluster.KMeans.html) estimator."
      ]
    },
    {
      "cell_type": "markdown",
      "metadata": {
        "id": "IHH3GSRfvNzO"
      },
      "source": [
        "## Instructions\n",
        "\n",
        "1.   Since we already know there are three varieties of Irises embodied in the [Iris dataset](https://scikit-learn.org/stable/modules/generated/sklearn.datasets.load_iris.html), use the whole unlabeled dataset with $k=3$ on an instance of the [`KMeans`](https://scikit-learn.org/stable/modules/generated/sklearn.cluster.KMeans.html) estimator. Evaluate the performance of the model using as many metrics as you deem appropriate.\n",
        "2.   Confirm if $k=3$ is the optimum value for $k$ on the unlabeled version of the [Iris dataset](https://scikit-learn.org/stable/modules/generated/sklearn.datasets.load_iris.html). Use the Silhouette Coefficient as a metric similar to the examples shown in our [PML 10 jupyter notebook](https://colab.research.google.com/gist/bjuliano/ad20bea98c646a2ccd522b4a91a70783/pml-10-unsupervised-learning-clustering-using-k-means.ipynb).\n",
        "3. Summarize all your findings and present your conclusions regarding the use of this algorithm on the [Iris dataset](https://scikit-learn.org/stable/modules/generated/sklearn.datasets.load_iris.html).\n",
        "\n",
        "\n"
      ]
    },
    {
      "cell_type": "markdown",
      "metadata": {
        "id": "bGde1jVxpgo-"
      },
      "source": [
        "## Required components of your submission \n",
        "\n",
        "Your *Google Colab* Jupyter notebook must include:\n",
        "\n",
        "1.   all pertinent *exploratory data analysis* (EDA) code, visualizations, and justifications (you can reuse, perhaps with minimal modification, the work you did in your earlier Assignments);\n",
        "2.   explanations/justifications for all model selection decisions;\n",
        "3.   all pertinent model diagnostics, including metrics and visualizations; and\n",
        "4.   your summary and conclusions pertaining to how the two models compare against each other.\n",
        "\n",
        "Be sure to check out or review the *Assignments/Projects* section of our [*Blackboard*](https://learn.csuchico.edu/) course page for details regarding expectations, requirements, and the [*Jupyter Notebook Rubric*](https://www.ecst.csuchico.edu/~bjuliano/Teaching/rubric-jupyter-notebook.pdf) that will be used to evaluate Jupyter notebook submissions.\n",
        "\n"
      ]
    },
    {
      "cell_type": "markdown",
      "metadata": {
        "id": "I25SaMi_1Pfm"
      },
      "source": [
        "# Solution"
      ]
    },
    {
      "cell_type": "markdown",
      "metadata": {
        "id": "Q7VHCoeIA_Qq"
      },
      "source": [
        "# Conclusions"
      ]
    }
  ]
}