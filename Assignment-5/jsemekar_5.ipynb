{
  "cells": [
    {
      "cell_type": "markdown",
      "metadata": {
        "id": "9qAAcaPbYaM6"
      },
      "source": [
        "# *Assignment #5*\n",
        "**Note:** This counts as our **Midterm Exam**\n",
        "\n",
        "## **[CSCI 581](https://www.ecst.csuchico.edu/~bjuliano/csci581/)**, Spring 2022\n",
        "\n",
        "Jayaa Emekar"
      ]
    },
    {
      "cell_type": "markdown",
      "metadata": {
        "id": "sBXGDnU-pA0C"
      },
      "source": [
        "## Predicting passenger survival on the *Titanic*\n",
        "\n",
        "Based on the [*Titanic - Machine Learning from Disaster*](https://www.kaggle.com/c/titanic) challenge from [Kaggle](https://www.kaggle.com/).\n",
        "The dataset is from the [Vanderbilt Biostatistics Datasets](https://hbiostat.org/data/)."
      ]
    },
    {
      "cell_type": "markdown",
      "metadata": {
        "id": "GGXW3rszFGhv"
      },
      "source": [
        "## Overview\n",
        "\n",
        "In this challenge you will use machine learning to create a model that predicts which passengers survived the *Titanic* shipwreck.\n",
        "\n",
        "The sinking of the *Titanic* is one of the most infamous shipwrecks in history.\n",
        "On April 15, 1912, during her maiden voyage, the widely considered \"unsinkable\" *RMS Titanic* sank after colliding with an iceberg. Unfortunately, there weren’t enough lifeboats for everyone onboard, resulting in the death of 1502 out of 2224 passengers and crew.\n",
        "\n",
        "![RMS Titanic](https://www.history.com/.image/c_limit%2Ccs_srgb%2Cfl_progressive%2Ch_2000%2Cq_auto:good%2Cw_2000/MTU3ODc5MDg2Njk4ODAwNDU3/rms-sailing-from-southampton.jpg)\n",
        "\n",
        "While there was some element of luck involved in surviving, it seems some groups of people were more likely to survive than others.\n",
        "\n",
        "In this challenge, you will build a predictive model that answers the question: \"What are the attributes of the people who were more likely to survive the sinking of the *Titanic*?\" using passenger data (*i.e.* name, age, gender, socio-economic class, *etc.*)."
      ]
    },
    {
      "cell_type": "markdown",
      "metadata": {
        "id": "IHH3GSRfvNzO"
      },
      "source": [
        "## Data\n",
        "\n",
        "In this challenge, you will use a dataset that include passenger information like name, age, gender, socio-economic class, *etc*. This dataset is available as a file named [`titanic.csv`](https://www.ecst.csuchico.edu/~bjuliano/csci581/datasets/titanic.csv).\n",
        "\n",
        "The file [`titanic.csv`](https://www.ecst.csuchico.edu/~bjuliano/csci581/datasets/titanic.csv) contains the details of the 1309 passengers on board and importantly, will reveal whether they survived or not.\n",
        "The dataset file details include:\n",
        "\n",
        "*   `pclass`: passenger class; proxy for socio-economic status (1st ~ upper, 2nd ~ middle, 3rd ~ lower)\n",
        "*   `survived`: survival status (0=No, 1=Yes)\n",
        "*   `name`: passenger name\n",
        "*   `sex`: passenger sex (male, female)\n",
        "*   `age`: passenger age in years (fractional if age is less than 1; if age is estimated, it is in the form xx.5)\n",
        "*   `sibsp`: number of siblings/spouses aboard (includes step-siblings; mistresses and fiances ignored)\n",
        "*   `parch`: number of parents/children aboard (parent only considers mother or father; child includes stepchildren)\n",
        "*   `ticket`: ticket number\n",
        "*   `fare`: passenger fare (in pre-1970 British pounds)\n",
        "*   `cabin`: cabin number\n",
        "*   `embarked`: port of embarkation (C=Cherbourg, Q=Queenstown, S=Southampton)\n",
        "*   `boat`: lifeboat number (if passenger boarded one)\n",
        "*   `body`: body identification number\n",
        "*   `home.dest`: passenger home/destination\n",
        "\n",
        "Using the concepts we have covered in class so far, develop a classification system that will learn patterns in the [`titanic.csv`](https://www.ecst.csuchico.edu/~bjuliano/csci581/datasets/titanic.csv) data file and accurately predict whether a passenger will survive or not."
      ]
    },
    {
      "cell_type": "markdown",
      "metadata": {
        "id": "bGde1jVxpgo-"
      },
      "source": [
        "## Required components of your submission \n",
        "\n",
        "Your *Google Colab* Jupyter notebook must include:\n",
        "\n",
        "1.   all pertinent *exploratory data analysis* (EDA) code, visualizations, and **detailed** justifications;\n",
        "2.   explanations/justifications for all model selection decisions;\n",
        "3.   all pertinent model diagnostics, including metrics and visualizations; and\n",
        "4.   your final model equation.\n",
        "\n",
        "Be sure to check out or review the *Assignments/Projects* section of our [*Blackboard*](https://learn.csuchico.edu/) course page for details regarding expectations, requirements, and the [*Jupyter Notebook Rubric*](https://www.ecst.csuchico.edu/~bjuliano/Teaching/rubric-jupyter-notebook.pdf) that will be used to evaluate Jupyter notebook submissions.\n",
        "\n"
      ]
    },
    {
      "cell_type": "markdown",
      "metadata": {
        "id": "I25SaMi_1Pfm"
      },
      "source": [
        "# Solution"
      ]
    },
    {
      "cell_type": "markdown",
      "metadata": {
        "id": "syx73aNxp99E"
      },
      "source": [
        "## Exploratory data analysis, visualizations, and justifications"
      ]
    },
    {
      "cell_type": "markdown",
      "metadata": {
        "id": "JV7Pox2aelml"
      },
      "source": [
        "##### Imports Required "
      ]
    },
    {
      "cell_type": "code",
      "execution_count": 1,
      "metadata": {
        "id": "Yw9fJqC7elmm"
      },
      "outputs": [],
      "source": [
        "import pandas as pd\n",
        "import seaborn as sns\n",
        "import matplotlib.pyplot as plt\n",
        "import numpy as np\n",
        "from IPython.display import display"
      ]
    },
    {
      "cell_type": "markdown",
      "metadata": {
        "id": "kvxPZ42QK9EO"
      },
      "source": [
        "##### Overview of the Dataset"
      ]
    },
    {
      "cell_type": "markdown",
      "metadata": {
        "id": "UC27_Ja1elms"
      },
      "source": [
        "Read the titanic dataset into the dataframe"
      ]
    },
    {
      "cell_type": "code",
      "execution_count": 2,
      "metadata": {
        "id": "E4o-EIBtLEz4"
      },
      "outputs": [],
      "source": [
        "df = pd.read_csv(\"https://www.ecst.csuchico.edu/~bjuliano/csci581/datasets/titanic.csv\")\n"
      ]
    },
    {
      "cell_type": "markdown",
      "metadata": {
        "id": "wLIyOPaIelmv"
      },
      "source": [
        "Print the column values of the dataset"
      ]
    },
    {
      "cell_type": "code",
      "execution_count": 3,
      "metadata": {
        "colab": {
          "base_uri": "https://localhost:8080/"
        },
        "id": "tXURvQ2pelmw",
        "outputId": "6ed6760e-00de-4eab-e158-ca347f86b583"
      },
      "outputs": [
        {
          "name": "stdout",
          "output_type": "stream",
          "text": [
            "['pclass' 'survived' 'name' 'sex' 'age' 'sibsp' 'parch' 'ticket' 'fare'\n",
            " 'cabin' 'embarked' 'boat' 'body' 'home.dest']\n"
          ]
        }
      ],
      "source": [
        "print(df.columns.values)\n"
      ]
    },
    {
      "cell_type": "markdown",
      "metadata": {
        "id": "gVtSif1Delmy"
      },
      "source": [
        "There are 14 columns present in the dataset.\n",
        "\n",
        "Check the head data of the dataset"
      ]
    },
    {
      "cell_type": "code",
      "execution_count": 4,
      "metadata": {
        "colab": {
          "base_uri": "https://localhost:8080/"
        },
        "id": "V-siohWMelmz",
        "outputId": "6cc54c7a-2132-474a-a894-a1eccfdf65b2"
      },
      "outputs": [
        {
          "name": "stdout",
          "output_type": "stream",
          "text": [
            "   pclass  survived                                             name     sex  \\\n",
            "0       1         1                    Allen, Miss. Elisabeth Walton  female   \n",
            "1       1         1                   Allison, Master. Hudson Trevor    male   \n",
            "2       1         0                     Allison, Miss. Helen Loraine  female   \n",
            "3       1         0             Allison, Mr. Hudson Joshua Creighton    male   \n",
            "4       1         0  Allison, Mrs. Hudson J C (Bessie Waldo Daniels)  female   \n",
            "\n",
            "     age  sibsp  parch  ticket      fare    cabin embarked boat   body  \\\n",
            "0  29.00      0      0   24160  211.3375       B5        S    2    NaN   \n",
            "1   0.92      1      2  113781  151.5500  C22 C26        S   11    NaN   \n",
            "2   2.00      1      2  113781  151.5500  C22 C26        S  NaN    NaN   \n",
            "3  30.00      1      2  113781  151.5500  C22 C26        S  NaN  135.0   \n",
            "4  25.00      1      2  113781  151.5500  C22 C26        S  NaN    NaN   \n",
            "\n",
            "                         home.dest  \n",
            "0                     St Louis, MO  \n",
            "1  Montreal, PQ / Chesterville, ON  \n",
            "2  Montreal, PQ / Chesterville, ON  \n",
            "3  Montreal, PQ / Chesterville, ON  \n",
            "4  Montreal, PQ / Chesterville, ON  \n"
          ]
        }
      ],
      "source": [
        "print(df.head())\n"
      ]
    },
    {
      "cell_type": "markdown",
      "metadata": {
        "id": "kSAnRpCGelm0"
      },
      "source": [
        "check information of the dataset variables\n",
        "The below table shows the overview of each variable, such as datatype, not null values\n"
      ]
    },
    {
      "cell_type": "code",
      "execution_count": 5,
      "metadata": {
        "colab": {
          "base_uri": "https://localhost:8080/"
        },
        "id": "USyYgozGelm1",
        "outputId": "e52ca402-b401-4b2f-f75b-e69d39442cf7"
      },
      "outputs": [
        {
          "name": "stdout",
          "output_type": "stream",
          "text": [
            "<class 'pandas.core.frame.DataFrame'>\n",
            "RangeIndex: 1309 entries, 0 to 1308\n",
            "Data columns (total 14 columns):\n",
            " #   Column     Non-Null Count  Dtype  \n",
            "---  ------     --------------  -----  \n",
            " 0   pclass     1309 non-null   int64  \n",
            " 1   survived   1309 non-null   int64  \n",
            " 2   name       1309 non-null   object \n",
            " 3   sex        1309 non-null   object \n",
            " 4   age        1046 non-null   float64\n",
            " 5   sibsp      1309 non-null   int64  \n",
            " 6   parch      1309 non-null   int64  \n",
            " 7   ticket     1309 non-null   object \n",
            " 8   fare       1308 non-null   float64\n",
            " 9   cabin      295 non-null    object \n",
            " 10  embarked   1307 non-null   object \n",
            " 11  boat       486 non-null    object \n",
            " 12  body       121 non-null    float64\n",
            " 13  home.dest  745 non-null    object \n",
            "dtypes: float64(3), int64(4), object(7)\n",
            "memory usage: 143.3+ KB\n",
            "None\n"
          ]
        }
      ],
      "source": [
        "print(df.info())\n"
      ]
    },
    {
      "cell_type": "markdown",
      "metadata": {
        "id": "4kbhsg_Ielm1"
      },
      "source": [
        "check description of the dataset variables\n",
        "\n",
        "The below table shows the overview of each variable, such as mean, standard deviation, minimum and maximum values.\n"
      ]
    },
    {
      "cell_type": "code",
      "execution_count": 6,
      "metadata": {
        "colab": {
          "base_uri": "https://localhost:8080/"
        },
        "id": "wZCrYDUUelm2",
        "outputId": "a1429f52-4df9-435f-d487-8960b5a008d2"
      },
      "outputs": [
        {
          "name": "stdout",
          "output_type": "stream",
          "text": [
            "            pclass     survived          age        sibsp        parch  \\\n",
            "count  1309.000000  1309.000000  1046.000000  1309.000000  1309.000000   \n",
            "mean      2.294882     0.381971    29.881138     0.498854     0.385027   \n",
            "std       0.837836     0.486055    14.413493     1.041658     0.865560   \n",
            "min       1.000000     0.000000     0.170000     0.000000     0.000000   \n",
            "25%       2.000000     0.000000    21.000000     0.000000     0.000000   \n",
            "50%       3.000000     0.000000    28.000000     0.000000     0.000000   \n",
            "75%       3.000000     1.000000    39.000000     1.000000     0.000000   \n",
            "max       3.000000     1.000000    80.000000     8.000000     9.000000   \n",
            "\n",
            "              fare        body  \n",
            "count  1308.000000  121.000000  \n",
            "mean     33.295479  160.809917  \n",
            "std      51.758668   97.696922  \n",
            "min       0.000000    1.000000  \n",
            "25%       7.895800   72.000000  \n",
            "50%      14.454200  155.000000  \n",
            "75%      31.275000  256.000000  \n",
            "max     512.329200  328.000000  \n"
          ]
        }
      ],
      "source": [
        "print(df.describe())"
      ]
    },
    {
      "cell_type": "markdown",
      "metadata": {
        "id": "Ynv5usyoq4YK"
      },
      "source": [
        "### Checking missing values"
      ]
    },
    {
      "cell_type": "markdown",
      "metadata": {
        "id": "71osFY69elm4"
      },
      "source": [
        "Check if there is any missing values in the dataset"
      ]
    },
    {
      "cell_type": "code",
      "execution_count": 7,
      "metadata": {
        "colab": {
          "base_uri": "https://localhost:8080/"
        },
        "id": "VdeHd7GCq_IY",
        "outputId": "25b274a8-cd05-421e-9fe8-772da9ae2554"
      },
      "outputs": [
        {
          "data": {
            "text/plain": [
              "pclass          0\n",
              "survived        0\n",
              "name            0\n",
              "sex             0\n",
              "age           263\n",
              "sibsp           0\n",
              "parch           0\n",
              "ticket          0\n",
              "fare            1\n",
              "cabin        1014\n",
              "embarked        2\n",
              "boat          823\n",
              "body         1188\n",
              "home.dest     564\n",
              "dtype: int64"
            ]
          },
          "execution_count": 7,
          "metadata": {},
          "output_type": "execute_result"
        }
      ],
      "source": [
        "df.isnull().sum()"
      ]
    },
    {
      "cell_type": "markdown",
      "metadata": {
        "id": "nvYn63bsrL7r"
      },
      "source": [
        "From the above table describing the number of null data in each column.\n",
        "\n",
        "we can see that the rates of null in cabin, boat, body and home.dest are very high, considering the dataset having 1309 observations. \n",
        "I will deal with the missing values later in Tidying data section later."
      ]
    },
    {
      "cell_type": "markdown",
      "metadata": {
        "id": "BWg0dlfbelm6"
      },
      "source": [
        "##### Observation till now\n",
        "\n",
        "We can see that: *\n",
        "1. We have 14 columns and 1309 row, or up to 14 data point about each of the 1309\n",
        "passanger. \n",
        "2. Checking for possible columns to encode, we are looking for columns with a low number of catagories and not numerical. Here’s the list from the output above: \n",
        "    1. Column sex has 2 caagories, type <class 'str'> \n",
        "    2. Column embarked has 3 caagories, type <class 'str'>\n",
        "    3. Column boat has 27 caagories, type <class 'str'> \n",
        "    4. Column cabin has 186 caagories, type <class 'str'> \n",
        "    5. Column home.dest has 369 caagories, type <class 'str'> \n",
        "    6. Column ticket has 929 caagories, type <class 'str'> \n",
        "    7. Column name has 1307 caagories, type <class 'str'>\n",
        "\n",
        "Since out target column, survived, has 2 unique values: 0, or not survived, and 1, survived,\n",
        "we want to use logistic regression model."
      ]
    },
    {
      "cell_type": "markdown",
      "metadata": {
        "id": "OIgDbJ8gelm7"
      },
      "source": [
        "Checking for null values in each column, it may be best to remove columns with a high (>50%) number of null values to preserve the remaining rows. Here’s a list:\n",
        "\n",
        "1. Column fare has 1 null values (or is 0.0764% null)\n",
        "2. Column embarked has 2 null values (or is 0.153% null)\n",
        "3. Column age has 263 null values (or is 20.1% null)\n",
        "4. Column home.dest has 564 null values (or is 43.1% null)\n",
        "5. Column boat has 823 null values (or is 62.9% null)\n",
        "6. Column cabin has 1014 null values (or is 77.5% null)\n",
        "7. Column body has 1188 null values (or is 90.8% null)\n",
        "\n",
        "only 38.197% of passengers survived the titanc."
      ]
    },
    {
      "cell_type": "markdown",
      "metadata": {
        "id": "s7MQphukq-sb"
      },
      "source": [
        "### Visualizations\n"
      ]
    },
    {
      "cell_type": "markdown",
      "metadata": {
        "id": "61sqVYzQzmIQ"
      },
      "source": [
        "#### survival rate vs passengers class"
      ]
    },
    {
      "cell_type": "code",
      "execution_count": 8,
      "metadata": {
        "colab": {
          "base_uri": "https://localhost:8080/",
          "height": 386
        },
        "id": "X_Za5Vqtvs0J",
        "outputId": "05d35bca-dbb2-4817-e298-e72f58476435"
      },
      "outputs": [
        {
          "data": {
            "text/plain": [
              "<seaborn.axisgrid.FacetGrid at 0x7eff967a8190>"
            ]
          },
          "execution_count": 8,
          "metadata": {},
          "output_type": "execute_result"
        },
        {
          "data": {
            "image/png": "[encoded data removed]",
            "text/plain": [
              "<Figure size 360x360 with 1 Axes>"
            ]
          },
          "metadata": {
            "needs_background": "light"
          },
          "output_type": "display_data"
        }
      ],
      "source": [
        "g1 = sns.catplot(x=\"pclass\", y = \"survived\", data=df, kind=\"bar\", ci=None, aspect=1)\n",
        "g1.set_ylabels(\"Survival Rate\")"
      ]
    },
    {
      "cell_type": "markdown",
      "metadata": {
        "id": "PcKzPvAfzA1g"
      },
      "source": [
        "It seems passenger class has a significant relationship with the survival rate.\n",
        "\n",
        "Passenger class 1 has highest survival rate while  Passenger class 3 has lowest survival rate."
      ]
    },
    {
      "cell_type": "markdown",
      "metadata": {
        "id": "F7O-0EFMzp3j"
      },
      "source": [
        "#### survival rate vs sex"
      ]
    },
    {
      "cell_type": "code",
      "execution_count": 9,
      "metadata": {
        "colab": {
          "base_uri": "https://localhost:8080/",
          "height": 386
        },
        "id": "h7k2VMHv0iKm",
        "outputId": "6182846d-4ad6-476d-9daa-fbd2d370b2b0"
      },
      "outputs": [
        {
          "data": {
            "text/plain": [
              "<seaborn.axisgrid.FacetGrid at 0x7eff9671aed0>"
            ]
          },
          "execution_count": 9,
          "metadata": {},
          "output_type": "execute_result"
        },
        {
          "data": {
            "image/png": "[encoded data removed]",
            "text/plain": [
              "<Figure size 360x360 with 1 Axes>"
            ]
          },
          "metadata": {
            "needs_background": "light"
          },
          "output_type": "display_data"
        }
      ],
      "source": [
        "g2 = sns.catplot(x=\"sex\", y = \"survived\", data=df, kind=\"bar\", ci=None, aspect=1)\n",
        "g2.set_ylabels(\"Survival Rate\")"
      ]
    },
    {
      "cell_type": "markdown",
      "metadata": {
        "id": "6uNNQg_y0lTm"
      },
      "source": [
        "It shows a female passenger has much higher survival rate than male. \n",
        "\n",
        "This feature seems to be a key predictive variable."
      ]
    },
    {
      "cell_type": "markdown",
      "metadata": {
        "id": "EuqSG9fYzzue"
      },
      "source": [
        "#### survival rate vs number of siblings/spouses aboard"
      ]
    },
    {
      "cell_type": "code",
      "execution_count": 10,
      "metadata": {
        "colab": {
          "base_uri": "https://localhost:8080/",
          "height": 386
        },
        "id": "p32Hg3sJ09jK",
        "outputId": "2033a8fc-86a1-4891-bf92-5b665e960c93"
      },
      "outputs": [
        {
          "data": {
            "text/plain": [
              "<seaborn.axisgrid.FacetGrid at 0x7eff939da050>"
            ]
          },
          "execution_count": 10,
          "metadata": {},
          "output_type": "execute_result"
        },
        {
          "data": {
            "image/png": "[encoded data removed]",
            "text/plain": [
              "<Figure size 360x360 with 1 Axes>"
            ]
          },
          "metadata": {
            "needs_background": "light"
          },
          "output_type": "display_data"
        }
      ],
      "source": [
        "g3 = sns.catplot(x=\"sibsp\", y = \"survived\", data=df, kind=\"bar\", ci=None, aspect=1)\n",
        "g3.set_ylabels(\"Survival Rate\")"
      ]
    },
    {
      "cell_type": "markdown",
      "metadata": {
        "id": "bM9HBaJf0-go"
      },
      "source": [
        "The chart indicates that sibsp with 1 has the highest survival rate and the rate decrease as sibsp increases."
      ]
    },
    {
      "cell_type": "markdown",
      "metadata": {
        "id": "rsnscO6wz0Mb"
      },
      "source": [
        "#### survival rate vs number of parents/children aboard"
      ]
    },
    {
      "cell_type": "code",
      "execution_count": 11,
      "metadata": {
        "colab": {
          "base_uri": "https://localhost:8080/",
          "height": 386
        },
        "id": "FuKknFks2Faa",
        "outputId": "79674435-885b-41ca-9c3b-f28ea6285d4d"
      },
      "outputs": [
        {
          "data": {
            "text/plain": [
              "<seaborn.axisgrid.FacetGrid at 0x7eff93a17710>"
            ]
          },
          "execution_count": 11,
          "metadata": {},
          "output_type": "execute_result"
        },
        {
          "data": {
            "image/png": "[encoded data removed]",
            "text/plain": [
              "<Figure size 360x360 with 1 Axes>"
            ]
          },
          "metadata": {
            "needs_background": "light"
          },
          "output_type": "display_data"
        }
      ],
      "source": [
        "g4 = sns.catplot(x=\"parch\", y = \"survived\", data=df, kind=\"bar\", ci=None, aspect=1)\n",
        "g4.set_ylabels(\"Survival Rate\")"
      ]
    },
    {
      "cell_type": "markdown",
      "metadata": {
        "id": "o1sXVdz_24NU"
      },
      "source": [
        "Cannot observe a distinctive pattern here, but looks like having more than 3 \"parch\" significantly decrease the chance of survival."
      ]
    },
    {
      "cell_type": "markdown",
      "metadata": {
        "id": "DA_OZwFPz0qI"
      },
      "source": [
        "#### Histogram of age"
      ]
    },
    {
      "cell_type": "code",
      "execution_count": 12,
      "metadata": {
        "colab": {
          "base_uri": "https://localhost:8080/",
          "height": 242
        },
        "id": "jZUREtIDx-Q7",
        "outputId": "ae818ab8-c815-4412-b17f-5eefba9f6a42"
      },
      "outputs": [
        {
          "data": {
            "text/plain": [
              "<seaborn.axisgrid.FacetGrid at 0x7eff9394fcd0>"
            ]
          },
          "execution_count": 12,
          "metadata": {},
          "output_type": "execute_result"
        },
        {
          "data": {
            "image/png": "[encoded data removed]",
            "text/plain": [
              "<Figure size 432x216 with 2 Axes>"
            ]
          },
          "metadata": {
            "needs_background": "light"
          },
          "output_type": "display_data"
        }
      ],
      "source": [
        "g5 = sns.FacetGrid(df, col=\"survived\")\n",
        "g5.map(plt.hist, \"age\", bins=25)"
      ]
    },
    {
      "cell_type": "markdown",
      "metadata": {
        "id": "fhytr9bX3Lay"
      },
      "source": [
        "Being under 10 years old might contributed to surviving, but other than that, we cannot see a clear pattern here."
      ]
    },
    {
      "cell_type": "markdown",
      "metadata": {
        "id": "LBb9zN4o4VZM"
      },
      "source": [
        "##### Histogram of fare"
      ]
    },
    {
      "cell_type": "code",
      "execution_count": 13,
      "metadata": {
        "colab": {
          "base_uri": "https://localhost:8080/",
          "height": 242
        },
        "id": "UaQYCjhn3Lq5",
        "outputId": "37da7f5c-3321-48ff-d72f-c24115ba9a51"
      },
      "outputs": [
        {
          "data": {
            "text/plain": [
              "<seaborn.axisgrid.FacetGrid at 0x7eff93753fd0>"
            ]
          },
          "execution_count": 13,
          "metadata": {},
          "output_type": "execute_result"
        },
        {
          "data": {
            "image/png": "[encoded data removed]",
            "text/plain": [
              "<Figure size 432x216 with 2 Axes>"
            ]
          },
          "metadata": {
            "needs_background": "light"
          },
          "output_type": "display_data"
        }
      ],
      "source": [
        "g6 = sns.FacetGrid(df, col=\"survived\")\n",
        "g6.map(plt.hist, \"fare\", bins=20)"
      ]
    },
    {
      "cell_type": "markdown",
      "metadata": {
        "id": "u_xNLr5I4hZY"
      },
      "source": [
        "Both histograms are right skewed. It seems that the number of people whose fare were the cheapest category (left most bar) did not survive, and looks like there are a number of people who paid a lot and survived. Fare variable might play a role in predicting the survival."
      ]
    },
    {
      "cell_type": "markdown",
      "metadata": {
        "id": "xFvuYKoX-u-7"
      },
      "source": [
        "#### Tidying data\n"
      ]
    },
    {
      "cell_type": "markdown",
      "metadata": {
        "id": "xfC5Tv73FGue"
      },
      "source": [
        "##### Missing values\n",
        "\n",
        "1. First, I replace all the missing values in age column with its average. \n",
        "2. Second, I drop cabin, boat, body and home.dest columns because each column of these variables contains more than 40% of missing observations. \n",
        "3. Finally, I drop rows which contains a missing value in fare and embarked variables, which are just 3 rows in total."
      ]
    },
    {
      "cell_type": "code",
      "execution_count": 14,
      "metadata": {
        "colab": {
          "base_uri": "https://localhost:8080/"
        },
        "id": "usn6vBbcFKvG",
        "outputId": "e5d45cb0-edfd-4ed9-cfba-6173fbf15e4d"
      },
      "outputs": [
        {
          "name": "stdout",
          "output_type": "stream",
          "text": [
            "The number of misssing values before data cleansing:\n",
            " pclass          0\n",
            "survived        0\n",
            "name            0\n",
            "sex             0\n",
            "age           263\n",
            "sibsp           0\n",
            "parch           0\n",
            "ticket          0\n",
            "fare            1\n",
            "cabin        1014\n",
            "embarked        2\n",
            "boat          823\n",
            "body         1188\n",
            "home.dest     564\n",
            "dtype: int64\n"
          ]
        }
      ],
      "source": [
        "print(\"The number of misssing values before data cleansing:\\n\",df.isnull().sum())\n"
      ]
    },
    {
      "cell_type": "markdown",
      "metadata": {
        "id": "gpJsMDz6elnI"
      },
      "source": [
        "Replace all the NaNs in column age with the average of column age"
      ]
    },
    {
      "cell_type": "code",
      "execution_count": 15,
      "metadata": {
        "id": "pzgmV2TmelnI"
      },
      "outputs": [],
      "source": [
        "# replace all the NaNs in column age with the average of column age\n",
        "df.age = df.age.fillna(df.age.mean())"
      ]
    },
    {
      "cell_type": "markdown",
      "metadata": {
        "id": "CPynkD9pelnJ"
      },
      "source": [
        "Drop the column cabin, boat, body, home.dest"
      ]
    },
    {
      "cell_type": "code",
      "execution_count": 16,
      "metadata": {
        "id": "qrp3ZXY8elnJ"
      },
      "outputs": [],
      "source": [
        "#drop cabin, boat, body, home.dest\n",
        "df1 = df.drop(columns=['cabin', 'boat', 'body', 'home.dest'])"
      ]
    },
    {
      "cell_type": "markdown",
      "metadata": {
        "id": "_PYqrqI0elnK"
      },
      "source": [
        "Drop rows with NaNs in fare and embarked (3 rows in total)."
      ]
    },
    {
      "cell_type": "code",
      "execution_count": 17,
      "metadata": {
        "id": "9PnFUJirelnK"
      },
      "outputs": [],
      "source": [
        "#drop rows with NaNs in fare and embarked (3 rows in total).\n",
        "df2 = df1.dropna()"
      ]
    },
    {
      "cell_type": "code",
      "execution_count": 18,
      "metadata": {
        "colab": {
          "base_uri": "https://localhost:8080/"
        },
        "id": "984xSgGFelnL",
        "outputId": "635305ba-f9d6-437a-a06c-60eeab802b40"
      },
      "outputs": [
        {
          "name": "stdout",
          "output_type": "stream",
          "text": [
            "\n",
            "The number of misssing values after data cleansing:\n",
            " pclass      0\n",
            "survived    0\n",
            "name        0\n",
            "sex         0\n",
            "age         0\n",
            "sibsp       0\n",
            "parch       0\n",
            "ticket      0\n",
            "fare        0\n",
            "embarked    0\n",
            "dtype: int64\n"
          ]
        }
      ],
      "source": [
        "print(\"\\nThe number of misssing values after data cleansing:\\n\", df2.isnull().sum())"
      ]
    },
    {
      "cell_type": "markdown",
      "metadata": {
        "id": "ApdvUtrq1mRg"
      },
      "source": [
        "As you can see, there is no missing values in the later table."
      ]
    },
    {
      "cell_type": "markdown",
      "metadata": {
        "id": "aY_UogUeEh3P"
      },
      "source": [
        "##### Convert string into numetic type\n",
        "\n",
        "Here, I replace string data (\"male\", \"female\") into numeric data (0, 1):"
      ]
    },
    {
      "cell_type": "code",
      "execution_count": 19,
      "metadata": {
        "colab": {
          "base_uri": "https://localhost:8080/"
        },
        "id": "G5dBHINdE3xm",
        "outputId": "46396ffe-4e6b-415b-f5b9-9ac0331eb9c1"
      },
      "outputs": [
        {
          "name": "stderr",
          "output_type": "stream",
          "text": [
            "/usr/local/lib/python3.7/dist-packages/pandas/core/indexing.py:1773: SettingWithCopyWarning: \n",
            "A value is trying to be set on a copy of a slice from a DataFrame.\n",
            "Try using .loc[row_indexer,col_indexer] = value instead\n",
            "\n",
            "See the caveats in the documentation: https://pandas.pydata.org/pandas-docs/stable/user_guide/indexing.html#returning-a-view-versus-a-copy\n",
            "  self._setitem_single_column(ilocs[0], value, pi)\n"
          ]
        }
      ],
      "source": [
        "from sklearn.preprocessing import LabelEncoder\n",
        "le = LabelEncoder()\n",
        "gender_encoded = le.fit_transform(df2['sex'])\n",
        "df2.loc[:, 'sex'] = gender_encoded"
      ]
    },
    {
      "cell_type": "markdown",
      "metadata": {
        "id": "7RU2_l77sNks"
      },
      "source": [
        "##### Feature Selection with Corrlation Matrix\n",
        "\n",
        "Here, I will see which feature correlate with the target variable with correlation matrix. \n",
        "\n",
        "I list top 5 variables that correlate with survival variable."
      ]
    },
    {
      "cell_type": "code",
      "execution_count": 20,
      "metadata": {
        "colab": {
          "base_uri": "https://localhost:8080/"
        },
        "id": "xB82AaH-qLpl",
        "outputId": "87431c72-f95e-422b-958a-c66960e9739b"
      },
      "outputs": [
        {
          "name": "stdout",
          "output_type": "stream",
          "text": [
            "Index(['survived', 'sex', 'pclass', 'fare', 'parch', 'age'], dtype='object')\n",
            "[1.         0.52724781 0.31006403 0.24296042 0.08340042 0.05213415]\n"
          ]
        }
      ],
      "source": [
        "corr = df2.corr()\n",
        "\n",
        "print(df2.corr().abs().nlargest(6, 'survived').index) # index shows the row label\n",
        "print(df2.corr().abs().nlargest(6, 'survived').to_numpy()[:,1])"
      ]
    },
    {
      "cell_type": "markdown",
      "metadata": {
        "id": "FvGOtnQA258S"
      },
      "source": [
        "It seems that the sex variable has the greatest correlation, followed by pclass, fare, parch and age."
      ]
    },
    {
      "cell_type": "markdown",
      "metadata": {
        "id": "TvjLqtsrelnQ"
      },
      "source": [
        "######Plot a correlation heat map of given dataframe."
      ]
    },
    {
      "cell_type": "code",
      "execution_count": 21,
      "metadata": {
        "colab": {
          "base_uri": "https://localhost:8080/",
          "height": 650
        },
        "id": "NP1q2ruOelnQ",
        "outputId": "793130c6-5c5a-48b9-d9b5-0ca39e6c0216"
      },
      "outputs": [
        {
          "data": {
            "image/png": "[encoded data removed]",
            "text/plain": [
              "<Figure size 792x792 with 2 Axes>"
            ]
          },
          "metadata": {
            "needs_background": "light"
          },
          "output_type": "display_data"
        }
      ],
      "source": [
        "f, ax = plt.subplots(figsize=(11,11))\n",
        "sns.heatmap(df.corr(), annot=True)\n",
        "plt.show()"
      ]
    },
    {
      "cell_type": "markdown",
      "metadata": {
        "id": "kDFjhrerelnR"
      },
      "source": [
        "Notice the strong correlation with our target column survived from the pair plot and the heatmap\n",
        "is in the following order: \n",
        "1. sex = 53% \n",
        "2. pclass = 31% \n",
        "3. fare = 24% \n",
        "4. embarked = 15%\n",
        "\n",
        "We’ll choose those for trainig our model. "
      ]
    },
    {
      "cell_type": "markdown",
      "metadata": {
        "id": "nJjgNmnNoYBP"
      },
      "source": [
        "##### Split dataset into training and testing dataset\n",
        "\n",
        "I will split dataset into training and testing dataset, with ratio of 67% and 33% respectively."
      ]
    },
    {
      "cell_type": "code",
      "execution_count": 22,
      "metadata": {
        "id": "Nkh6K84roedm"
      },
      "outputs": [],
      "source": [
        "from sklearn.model_selection import train_test_split\n",
        "\n",
        "features = df2.loc[:, [\"pclass\", \"name\", \"sex\", \"age\", \"sibsp\", \"parch\", \"ticket\", \"fare\", \"embarked\"]]\n",
        "target = df2[\"survived\"]\n",
        "\n",
        "train_set, test_set, train_labels, test_labels = train_test_split(\n",
        "                              features,               # features\n",
        "                              target,             # labels\n",
        "                              test_size = 0.33,          # split ratio\n",
        "                              random_state = 1,          # set random seed\n",
        "                              stratify = target)  # randomize based on labels"
      ]
    },
    {
      "cell_type": "markdown",
      "metadata": {
        "id": "cSZPvSA9qMZJ"
      },
      "source": [
        "##### Model selection"
      ]
    },
    {
      "cell_type": "markdown",
      "metadata": {
        "id": "OZ6psaOVLAdx"
      },
      "source": [
        "Since the target is binary categorical variable, we will use a logistic regression model.\n",
        "\n",
        "In our exploratory data analysis, we determined that passenger class, fare, age, and sex are the\n",
        "most important factors. We will try use them"
      ]
    },
    {
      "cell_type": "markdown",
      "metadata": {
        "id": "OCITQUPpqUHC"
      },
      "source": [
        "##### Building a model\n",
        "\n",
        "I will build several logistic regression models with different parameters.\n"
      ]
    },
    {
      "cell_type": "markdown",
      "metadata": {
        "id": "HC12PON3eomA"
      },
      "source": [
        "##### Model 1:\n",
        "For the first model, \n",
        "1. I will use only 1 predictive variable to train the model. \n",
        "2. Sex variable is used since the correlation matrix shows it has the greatest correlation with survival rate."
      ]
    },
    {
      "cell_type": "code",
      "execution_count": 23,
      "metadata": {
        "colab": {
          "base_uri": "https://localhost:8080/"
        },
        "id": "dsBbjw8SfCVi",
        "outputId": "47cd2d43-69fc-4d3d-a743-476bb0004ea3"
      },
      "outputs": [
        {
          "data": {
            "text/plain": [
              "LogisticRegression()"
            ]
          },
          "execution_count": 23,
          "metadata": {},
          "output_type": "execute_result"
        }
      ],
      "source": [
        "from sklearn import linear_model\n",
        "from sklearn import metrics\n",
        "x = train_set.loc[:,[\"sex\"]]      \n",
        "y = train_labels              # 0: not-survived, 1: survived\n",
        "log_regress = linear_model.LogisticRegression()\n",
        "log_regress.fit(X = x, y = y)\n"
      ]
    },
    {
      "cell_type": "markdown",
      "metadata": {
        "id": "JNegzzbaelnU"
      },
      "source": [
        "Get the parameters for this estimator of LogisticRegression"
      ]
    },
    {
      "cell_type": "code",
      "execution_count": 24,
      "metadata": {
        "colab": {
          "base_uri": "https://localhost:8080/"
        },
        "id": "kAqcQ3p-elnV",
        "outputId": "6bd5e428-b62a-4298-e25d-0ce1e5731267"
      },
      "outputs": [
        {
          "name": "stdout",
          "output_type": "stream",
          "text": [
            "Model parameters: {'C': 1.0, 'class_weight': None, 'dual': False, 'fit_intercept': True, 'intercept_scaling': 1, 'l1_ratio': None, 'max_iter': 100, 'multi_class': 'auto', 'n_jobs': None, 'penalty': 'l2', 'random_state': None, 'solver': 'lbfgs', 'tol': 0.0001, 'verbose': 0, 'warm_start': False}\n",
            "\n"
          ]
        }
      ],
      "source": [
        "# Get the parameters for this estimator\n",
        "params = log_regress.get_params()\n",
        "print('Model parameters:', params)\n",
        "print()"
      ]
    },
    {
      "cell_type": "markdown",
      "metadata": {
        "id": "KNjeBr8qelnV"
      },
      "source": [
        "We are using above parameters indicated for this model"
      ]
    },
    {
      "cell_type": "markdown",
      "metadata": {
        "id": "b9ttoqWnelnW"
      },
      "source": [
        "print out intercept and coefficients"
      ]
    },
    {
      "cell_type": "code",
      "execution_count": 25,
      "metadata": {
        "colab": {
          "base_uri": "https://localhost:8080/"
        },
        "id": "Wf8ZSTidelnW",
        "outputId": "4365a4fa-226b-4090-f673-f9adcc9a7158"
      },
      "outputs": [
        {
          "name": "stdout",
          "output_type": "stream",
          "text": [
            "Intercept:  [0.90500879]\n",
            "Coefficient:  [[-2.28811383]]\n"
          ]
        }
      ],
      "source": [
        "#print out intercept and coefficients\n",
        "print(\"Intercept: \", log_regress.intercept_)  \n",
        "print(\"Coefficient: \", log_regress.coef_) "
      ]
    },
    {
      "cell_type": "markdown",
      "metadata": {
        "id": "GnaACBWHelnX"
      },
      "source": [
        "predict the model"
      ]
    },
    {
      "cell_type": "code",
      "execution_count": 26,
      "metadata": {
        "id": "sj4i0x4welnX"
      },
      "outputs": [],
      "source": [
        "preds = log_regress.predict(X=test_set.loc[:,[\"sex\"]])"
      ]
    },
    {
      "cell_type": "markdown",
      "metadata": {
        "id": "nauLApcKelnY"
      },
      "source": [
        "Print and plot the confusion matrix"
      ]
    },
    {
      "cell_type": "markdown",
      "metadata": {
        "id": "Rc9Gm-DCelnZ"
      },
      "source": [
        "A type of error matrix commonly used in evaluating a supervised learning ML classification algorithm is the confusion matrix. \n",
        "This is a good way to get a closer look at our Type 1 and Type 2 errors. \n",
        "\n",
        "(False Positive and False Negative, respectively.)"
      ]
    },
    {
      "cell_type": "code",
      "execution_count": 27,
      "metadata": {
        "colab": {
          "base_uri": "https://localhost:8080/"
        },
        "id": "ZHVP5BvgelnZ",
        "outputId": "6283e6a1-cd77-4ec3-ab52-6d3d6fb3b9c2"
      },
      "outputs": [
        {
          "name": "stdout",
          "output_type": "stream",
          "text": [
            "\n",
            "---Confusion Matrix---\n",
            "survived    0    1\n",
            "row_0             \n",
            "0         227   50\n",
            "1          40  114\n"
          ]
        }
      ],
      "source": [
        "print(\"\\n---Confusion Matrix---\")\n",
        "print(pd.crosstab(preds, test_labels))"
      ]
    },
    {
      "cell_type": "markdown",
      "metadata": {
        "id": "52vqSIM6elna"
      },
      "source": [
        "This is the confusion matrix for model 1, where we considered Sex as column"
      ]
    },
    {
      "cell_type": "code",
      "execution_count": 28,
      "metadata": {
        "colab": {
          "base_uri": "https://localhost:8080/",
          "height": 284
        },
        "id": "Q1INj0Aaelnb",
        "outputId": "cc21839e-7187-418b-a3ad-01aa31373cd6"
      },
      "outputs": [
        {
          "data": {
            "text/plain": [
              "<matplotlib.axes._subplots.AxesSubplot at 0x7eff92813090>"
            ]
          },
          "execution_count": 28,
          "metadata": {},
          "output_type": "execute_result"
        },
        {
          "data": {
            "image/png": "[encoded data removed]",
            "text/plain": [
              "<Figure size 432x288 with 2 Axes>"
            ]
          },
          "metadata": {
            "needs_background": "light"
          },
          "output_type": "display_data"
        }
      ],
      "source": [
        "# Get confusion matrix\n",
        "from sklearn.metrics import confusion_matrix\n",
        "cf_matrix = confusion_matrix(test_labels, preds)\n",
        "group_names = ['True Neg','False Pos','False Neg','True Pos']\n",
        "group_counts = [\"{0:0.0f}\".format(value) for value in\n",
        "cf_matrix.flatten()]\n",
        "group_percentages = [\"{0:.2%}\".format(value) for value in\n",
        "cf_matrix.flatten()/np.sum(cf_matrix)]\n",
        "labels = [f\"{v1}\\n{v2}\\n{v3}\" for v1, v2, v3 in\n",
        "zip(group_names,group_counts,group_percentages)]\n",
        "labels = np.asarray(labels).reshape(2,2)\n",
        "sns.heatmap(cf_matrix, annot=labels, fmt='', cmap='Blues')"
      ]
    },
    {
      "cell_type": "markdown",
      "metadata": {
        "id": "xBQEOoHgelnc"
      },
      "source": [
        "Get the accuracy of the prediction\n"
      ]
    },
    {
      "cell_type": "code",
      "execution_count": 29,
      "metadata": {
        "colab": {
          "base_uri": "https://localhost:8080/"
        },
        "id": "w-WoC4Mselnd",
        "outputId": "7fe04c94-7835-482f-8249-df6b413eb96c"
      },
      "outputs": [
        {
          "name": "stdout",
          "output_type": "stream",
          "text": [
            "\n",
            "---Accuracy---\n",
            "0.7911832946635731\n"
          ]
        }
      ],
      "source": [
        "#---get the accuracy of the prediction---\n",
        "print(\"\\n---Accuracy---\")\n",
        "print(log_regress.score(X = test_set.loc[:,[\"sex\"]] ,\n",
        "                        y = test_labels))"
      ]
    },
    {
      "cell_type": "markdown",
      "metadata": {
        "id": "wwjljJixelnd"
      },
      "source": [
        "This Model 1 is having the accuracy of 79.19%"
      ]
    },
    {
      "cell_type": "markdown",
      "metadata": {
        "id": "CaY-0ybOelne"
      },
      "source": [
        "View summary of common classification metrics"
      ]
    },
    {
      "cell_type": "code",
      "execution_count": 30,
      "metadata": {
        "colab": {
          "base_uri": "https://localhost:8080/"
        },
        "id": "ni-rWWTwelne",
        "outputId": "d814a186-a9ab-4091-82ed-fff3b4160557"
      },
      "outputs": [
        {
          "name": "stdout",
          "output_type": "stream",
          "text": [
            "\n",
            "---Metrices---\n",
            "              precision    recall  f1-score   support\n",
            "\n",
            "           0       0.82      0.85      0.83       267\n",
            "           1       0.74      0.70      0.72       164\n",
            "\n",
            "    accuracy                           0.79       431\n",
            "   macro avg       0.78      0.77      0.78       431\n",
            "weighted avg       0.79      0.79      0.79       431\n",
            "\n"
          ]
        }
      ],
      "source": [
        "# View summary of common classification metrics\n",
        "print(\"\\n---Metrices---\")\n",
        "print(metrics.classification_report(\n",
        "      y_true = test_labels,\n",
        "      y_pred = preds))"
      ]
    },
    {
      "cell_type": "markdown",
      "metadata": {
        "id": "Nqmqw-3Helnf"
      },
      "source": [
        "The above table shows detailed analysis of classification report"
      ]
    },
    {
      "cell_type": "markdown",
      "metadata": {
        "id": "ooDfai36elnf"
      },
      "source": [
        "Receiver Operating Characteristic (ROC) Curve for Model1"
      ]
    },
    {
      "cell_type": "markdown",
      "metadata": {
        "id": "smSngCuWelnf"
      },
      "source": [
        "common metric used is the receiver operating characteristic (ROC) curve, which is based on information from the confusion matrix.\n",
        "Specifically, a ROC curve is generated by plotting the true positive rate (TPR) against the false positive rate (FPR) at various threshold settings."
      ]
    },
    {
      "cell_type": "code",
      "execution_count": 31,
      "metadata": {
        "colab": {
          "base_uri": "https://localhost:8080/",
          "height": 295
        },
        "id": "-MGwOscAelng",
        "outputId": "84c6c9ca-05c2-426a-ad04-8f5ba6db40b5"
      },
      "outputs": [
        {
          "data": {
            "image/png": "[encoded data removed]",
            "text/plain": [
              "<Figure size 432x288 with 1 Axes>"
            ]
          },
          "metadata": {
            "needs_background": "light"
          },
          "output_type": "display_data"
        }
      ],
      "source": [
        "#---------Receiver Operating Characteristic (ROC) Curve---------\n",
        "from sklearn.metrics import roc_curve, auc\n",
        "\n",
        "#---find the predicted probabilities using the test set\n",
        "probs = log_regress.predict_proba(test_set.loc[:,[\"sex\"]])\n",
        "preds = probs[:,1]\n",
        "\n",
        "#---find the FPR, TPR, and threshold---\n",
        "fpr, tpr, threshold = roc_curve(test_labels, preds)\n",
        "\n",
        "#---find the area under the curve---\n",
        "roc_auc = auc(fpr, tpr)\n",
        "\n",
        "import matplotlib.pyplot as plt\n",
        "plt.plot(fpr, tpr, 'b', label = 'AUC = %0.2f' % roc_auc)\n",
        "plt.plot([0, 1], [0, 1],'r--')\n",
        "plt.xlim([0, 1])\n",
        "plt.ylim([0, 1])\n",
        "plt.ylabel('True Positive Rate (TPR)')\n",
        "plt.xlabel('False Positive Rate (FPR)')\n",
        "plt.title('Receiver Operating Characteristic (ROC)')\n",
        "plt.legend(loc = 'lower right')\n",
        "plt.show()"
      ]
    },
    {
      "cell_type": "markdown",
      "metadata": {
        "id": "bFVHVqxK5--t"
      },
      "source": [
        "Using the coefficient and intercept value calculated above are as follows:\n",
        "\n",
        "    Intercept:  [0.90500879]\n",
        "    Coefficient:  [[-2.28811383]]\n",
        "\n",
        "Using this the Model equation becomes\n",
        "\n",
        "the sigmoid function:\n",
        "$$Prob(x) = \\frac{1}{1+e^{-(0.91-2.29{x})}}$$\n",
        "\n",
        "With only one predictive variable, sex, the model produced accuracy of 79% and AUC of 0.77."
      ]
    },
    {
      "cell_type": "markdown",
      "metadata": {
        "id": "7ErCG6NNWCWm"
      },
      "source": [
        "##### Model 2:\n",
        "I will train the second model with pclass, sex and fare variables because they are the top 3 variables that correlate with the target variable, according to the correlation matrix above."
      ]
    },
    {
      "cell_type": "code",
      "execution_count": 32,
      "metadata": {
        "colab": {
          "base_uri": "https://localhost:8080/"
        },
        "id": "jRMe8U2-elnh",
        "outputId": "6522bf2c-4886-4dea-ecb0-8251f490299f"
      },
      "outputs": [
        {
          "data": {
            "text/plain": [
              "LogisticRegression()"
            ]
          },
          "execution_count": 32,
          "metadata": {},
          "output_type": "execute_result"
        }
      ],
      "source": [
        "x = train_set.loc[:,[\"sex\", \"pclass\",\"fare\"]]        \n",
        "y = train_labels              # 0: not-survived, 1: survived\n",
        "log_regress = linear_model.LogisticRegression()\n",
        "log_regress.fit(X = x, y = y)"
      ]
    },
    {
      "cell_type": "markdown",
      "metadata": {
        "id": "PCLAGTMHelni"
      },
      "source": [
        "Get the parameters for this estimator"
      ]
    },
    {
      "cell_type": "code",
      "execution_count": 33,
      "metadata": {
        "colab": {
          "base_uri": "https://localhost:8080/"
        },
        "id": "A2phn396elni",
        "outputId": "31c8e2b5-f347-4015-dba5-716dca9f95e2"
      },
      "outputs": [
        {
          "name": "stdout",
          "output_type": "stream",
          "text": [
            "Model parameters: {'C': 1.0, 'class_weight': None, 'dual': False, 'fit_intercept': True, 'intercept_scaling': 1, 'l1_ratio': None, 'max_iter': 100, 'multi_class': 'auto', 'n_jobs': None, 'penalty': 'l2', 'random_state': None, 'solver': 'lbfgs', 'tol': 0.0001, 'verbose': 0, 'warm_start': False}\n"
          ]
        }
      ],
      "source": [
        "# Get the parameters for this estimator\n",
        "params = log_regress.get_params()\n",
        "print('Model parameters:', params)"
      ]
    },
    {
      "cell_type": "markdown",
      "metadata": {
        "id": "___6rFXvelnj"
      },
      "source": [
        "Print out intercept and coefficients"
      ]
    },
    {
      "cell_type": "code",
      "execution_count": 34,
      "metadata": {
        "colab": {
          "base_uri": "https://localhost:8080/"
        },
        "id": "iSwy9Qcfelnj",
        "outputId": "02e0bb95-4fc1-46f2-b133-e87be16c170b"
      },
      "outputs": [
        {
          "name": "stdout",
          "output_type": "stream",
          "text": [
            "Intercept:  [2.60085949]\n",
            "Coefficient:  [[-2.33397561e+00 -7.76174432e-01  1.54207883e-03]]\n"
          ]
        }
      ],
      "source": [
        "#print out intercept and coefficients\n",
        "print(\"Intercept: \", log_regress.intercept_)  \n",
        "print(\"Coefficient: \", log_regress.coef_) "
      ]
    },
    {
      "cell_type": "markdown",
      "metadata": {
        "id": "m4rNLeqSelnk"
      },
      "source": [
        "Get the prediction for model"
      ]
    },
    {
      "cell_type": "code",
      "execution_count": 35,
      "metadata": {
        "id": "mTUdSDNbelnl"
      },
      "outputs": [],
      "source": [
        "preds = log_regress.predict(X=test_set.loc[:,[\"sex\", \"pclass\",\"fare\"]])"
      ]
    },
    {
      "cell_type": "markdown",
      "metadata": {
        "id": "zdFKKdOIelnl"
      },
      "source": [
        "Print and plot the confusion matrix"
      ]
    },
    {
      "cell_type": "code",
      "execution_count": 36,
      "metadata": {
        "colab": {
          "base_uri": "https://localhost:8080/"
        },
        "id": "Z5zoHt4telnl",
        "outputId": "ba477eb1-818e-497e-88ec-05a419d4c9ae"
      },
      "outputs": [
        {
          "name": "stdout",
          "output_type": "stream",
          "text": [
            "\n",
            "---Confusion Matrix---\n",
            "survived    0    1\n",
            "row_0             \n",
            "0         227   50\n",
            "1          40  114\n"
          ]
        }
      ],
      "source": [
        "print(\"\\n---Confusion Matrix---\")\n",
        "print(pd.crosstab(preds, test_labels))"
      ]
    },
    {
      "cell_type": "code",
      "execution_count": 37,
      "metadata": {
        "colab": {
          "base_uri": "https://localhost:8080/",
          "height": 284
        },
        "id": "Dqtf8MGfelnm",
        "outputId": "6cd14887-93fc-4c31-92a2-67512cf2f82d"
      },
      "outputs": [
        {
          "data": {
            "text/plain": [
              "<matplotlib.axes._subplots.AxesSubplot at 0x7eff927fcbd0>"
            ]
          },
          "execution_count": 37,
          "metadata": {},
          "output_type": "execute_result"
        },
        {
          "data": {
            "image/png": "[encoded data removed]",
            "text/plain": [
              "<Figure size 432x288 with 2 Axes>"
            ]
          },
          "metadata": {
            "needs_background": "light"
          },
          "output_type": "display_data"
        }
      ],
      "source": [
        "# Get confusion matrix\n",
        "from sklearn.metrics import confusion_matrix\n",
        "cf_matrix = confusion_matrix(test_labels, preds)\n",
        "group_names = ['True Neg','False Pos','False Neg','True Pos']\n",
        "group_counts = [\"{0:0.0f}\".format(value) for value in\n",
        "cf_matrix.flatten()]\n",
        "group_percentages = [\"{0:.2%}\".format(value) for value in\n",
        "cf_matrix.flatten()/np.sum(cf_matrix)]\n",
        "labels = [f\"{v1}\\n{v2}\\n{v3}\" for v1, v2, v3 in\n",
        "zip(group_names,group_counts,group_percentages)]\n",
        "labels = np.asarray(labels).reshape(2,2)\n",
        "sns.heatmap(cf_matrix, annot=labels, fmt='', cmap='Blues')"
      ]
    },
    {
      "cell_type": "markdown",
      "metadata": {
        "id": "nbKh8jJrelnm"
      },
      "source": [
        "Get the accuracy of the prediction"
      ]
    },
    {
      "cell_type": "code",
      "execution_count": 38,
      "metadata": {
        "colab": {
          "base_uri": "https://localhost:8080/"
        },
        "id": "ZkFoykrXelnn",
        "outputId": "ee74b7e7-08b1-4fff-fd66-147dfbeea8ed"
      },
      "outputs": [
        {
          "name": "stdout",
          "output_type": "stream",
          "text": [
            "\n",
            "---Accuracy---\n",
            "0.7911832946635731\n"
          ]
        }
      ],
      "source": [
        "#---get the accuracy of the prediction---\n",
        "print(\"\\n---Accuracy---\")\n",
        "print(log_regress.score(X = test_set.loc[:,[\"sex\", \"pclass\",\"fare\"]] ,\n",
        "                        y = test_labels))"
      ]
    },
    {
      "cell_type": "markdown",
      "metadata": {
        "id": "PGXnH9Q0elnn"
      },
      "source": [
        "View summary of common classification metrics"
      ]
    },
    {
      "cell_type": "code",
      "execution_count": 39,
      "metadata": {
        "colab": {
          "base_uri": "https://localhost:8080/"
        },
        "id": "SaRux_dIelno",
        "outputId": "9ab38951-652b-4d49-cea0-d76230b01421"
      },
      "outputs": [
        {
          "name": "stdout",
          "output_type": "stream",
          "text": [
            "\n",
            "---Metrices---\n",
            "              precision    recall  f1-score   support\n",
            "\n",
            "           0       0.82      0.85      0.83       267\n",
            "           1       0.74      0.70      0.72       164\n",
            "\n",
            "    accuracy                           0.79       431\n",
            "   macro avg       0.78      0.77      0.78       431\n",
            "weighted avg       0.79      0.79      0.79       431\n",
            "\n"
          ]
        }
      ],
      "source": [
        "# View summary of common classification metrics\n",
        "print(\"\\n---Metrices---\")\n",
        "print(metrics.classification_report(\n",
        "      y_true = test_labels,\n",
        "      y_pred = preds))"
      ]
    },
    {
      "cell_type": "markdown",
      "metadata": {
        "id": "RF8fd6_delno"
      },
      "source": [
        "Receiver Operating Characteristic (ROC) Curve"
      ]
    },
    {
      "cell_type": "code",
      "execution_count": 40,
      "metadata": {
        "colab": {
          "base_uri": "https://localhost:8080/",
          "height": 295
        },
        "id": "hFWSv-X_PvE1",
        "outputId": "f065642d-0112-414c-b231-2d1a78df0aaf"
      },
      "outputs": [
        {
          "data": {
            "image/png": "[encoded data removed]",
            "text/plain": [
              "<Figure size 432x288 with 1 Axes>"
            ]
          },
          "metadata": {
            "needs_background": "light"
          },
          "output_type": "display_data"
        }
      ],
      "source": [
        "#---------Receiver Operating Characteristic (ROC) Curve---------\n",
        "\n",
        "#---find the predicted probabilities using the test set\n",
        "probs = log_regress.predict_proba(test_set.loc[:,[\"sex\", \"pclass\",\"fare\"]])\n",
        "preds = probs[:,1]\n",
        "\n",
        "#---find the FPR, TPR, and threshold---\n",
        "fpr, tpr, threshold = roc_curve(test_labels, preds)\n",
        "\n",
        "#---find the area under the curve---\n",
        "roc_auc = auc(fpr, tpr)\n",
        "\n",
        "import matplotlib.pyplot as plt\n",
        "plt.plot(fpr, tpr, 'b', label = 'AUC = %0.2f' % roc_auc)\n",
        "plt.plot([0, 1], [0, 1],'r--')\n",
        "plt.xlim([0, 1])\n",
        "plt.ylim([0, 1])\n",
        "plt.ylabel('True Positive Rate (TPR)')\n",
        "plt.xlabel('False Positive Rate (FPR)')\n",
        "plt.title('Receiver Operating Characteristic (ROC)')\n",
        "plt.legend(loc = 'lower right')\n",
        "plt.show()"
      ]
    },
    {
      "cell_type": "markdown",
      "metadata": {
        "id": "H9Qi4LDR8I1i"
      },
      "source": [
        "Using the coefficient and intercept value calculated above are as follows:\n",
        "\n",
        "    Intercept:  [2.60085949]\n",
        "    Coefficient:  [[-2.33397561e+00 -7.76174432e-01  1.54207883e-03]]\n",
        "\n",
        "Using this the Model equation becomes\n",
        "\n",
        "the sigmoid function:\n",
        "$$Prob(x_1, x_2, x_3) = \\frac{1}{1+e^{-(2.6-2.33{x_1}-0.78{x_2}-0.0015{x_3})}}$$\n",
        "\n",
        "With the three predictive variables, sex, pclass and fare, the model produced the same accuracy of 79%, but AUC improved to 0.83, (from 0.77 of model 1) compared to the model 1."
      ]
    },
    {
      "cell_type": "markdown",
      "metadata": {
        "id": "Ey3MeYSNWpN5"
      },
      "source": [
        "##### Model 3:\n",
        "In the exploratory data analysis, we observed that being under 10 yeras old may have increased the chance of survival. \n",
        "\n",
        "So in the third model, I will make the numeric age variable into binary categorical variable, one under 10  years old and the other older that 10 years old. \n",
        "\n",
        "Then I include the age variable to train a model along with sex, pclass and fare variables."
      ]
    },
    {
      "cell_type": "code",
      "execution_count": 41,
      "metadata": {
        "colab": {
          "base_uri": "https://localhost:8080/"
        },
        "id": "mp95kjjjelnq",
        "outputId": "c87bf705-8ed0-4096-beff-904ff5ff18d7"
      },
      "outputs": [
        {
          "name": "stderr",
          "output_type": "stream",
          "text": [
            "/usr/local/lib/python3.7/dist-packages/ipykernel_launcher.py:1: SettingWithCopyWarning: \n",
            "A value is trying to be set on a copy of a slice from a DataFrame\n",
            "\n",
            "See the caveats in the documentation: https://pandas.pydata.org/pandas-docs/stable/user_guide/indexing.html#returning-a-view-versus-a-copy\n",
            "  \"\"\"Entry point for launching an IPython kernel.\n",
            "/usr/local/lib/python3.7/dist-packages/ipykernel_launcher.py:2: SettingWithCopyWarning: \n",
            "A value is trying to be set on a copy of a slice from a DataFrame\n",
            "\n",
            "See the caveats in the documentation: https://pandas.pydata.org/pandas-docs/stable/user_guide/indexing.html#returning-a-view-versus-a-copy\n",
            "  \n",
            "/usr/local/lib/python3.7/dist-packages/ipykernel_launcher.py:4: SettingWithCopyWarning: \n",
            "A value is trying to be set on a copy of a slice from a DataFrame\n",
            "\n",
            "See the caveats in the documentation: https://pandas.pydata.org/pandas-docs/stable/user_guide/indexing.html#returning-a-view-versus-a-copy\n",
            "  after removing the cwd from sys.path.\n",
            "/usr/local/lib/python3.7/dist-packages/ipykernel_launcher.py:5: SettingWithCopyWarning: \n",
            "A value is trying to be set on a copy of a slice from a DataFrame\n",
            "\n",
            "See the caveats in the documentation: https://pandas.pydata.org/pandas-docs/stable/user_guide/indexing.html#returning-a-view-versus-a-copy\n",
            "  \"\"\"\n"
          ]
        },
        {
          "data": {
            "text/plain": [
              "LogisticRegression()"
            ]
          },
          "execution_count": 41,
          "metadata": {},
          "output_type": "execute_result"
        }
      ],
      "source": [
        "train_set.age[train_set.age >= 10] = 0\n",
        "train_set.age[train_set.age < 10] = 1\n",
        "\n",
        "test_set.age[test_set.age >= 10] = 0\n",
        "test_set.age[test_set.age < 10] = 1\n",
        "\n",
        "x = train_set.loc[:,[\"sex\", \"pclass\",\"fare\", \"age\"]]        \n",
        "y = train_labels              # 0: not-survived, 1: survived\n",
        "log_regress = linear_model.LogisticRegression()\n",
        "log_regress.fit(X = x, y = y)"
      ]
    },
    {
      "cell_type": "markdown",
      "metadata": {
        "id": "w9Vb1OKMelnr"
      },
      "source": [
        "Get the parameters for this estimator"
      ]
    },
    {
      "cell_type": "code",
      "execution_count": 42,
      "metadata": {
        "colab": {
          "base_uri": "https://localhost:8080/"
        },
        "id": "G7PJQHxcelnr",
        "outputId": "a1f3862c-5d5a-4f88-a114-ffa220ed545d"
      },
      "outputs": [
        {
          "name": "stdout",
          "output_type": "stream",
          "text": [
            "Model parameters: {'C': 1.0, 'class_weight': None, 'dual': False, 'fit_intercept': True, 'intercept_scaling': 1, 'l1_ratio': None, 'max_iter': 100, 'multi_class': 'auto', 'n_jobs': None, 'penalty': 'l2', 'random_state': None, 'solver': 'lbfgs', 'tol': 0.0001, 'verbose': 0, 'warm_start': False}\n",
            "\n"
          ]
        }
      ],
      "source": [
        "# Get the parameters for this estimator\n",
        "params = log_regress.get_params()\n",
        "print('Model parameters:', params)\n",
        "print()"
      ]
    },
    {
      "cell_type": "markdown",
      "metadata": {
        "id": "vuezSJTCelns"
      },
      "source": [
        "Print out intercept and coefficients"
      ]
    },
    {
      "cell_type": "code",
      "execution_count": 43,
      "metadata": {
        "colab": {
          "base_uri": "https://localhost:8080/"
        },
        "id": "DkBUunvUelns",
        "outputId": "4ed23409-2ab6-4137-87a2-dae77bca03f4"
      },
      "outputs": [
        {
          "name": "stdout",
          "output_type": "stream",
          "text": [
            "Intercept:  [2.60048375]\n",
            "Coefficient:  [[-2.33397762e+00 -7.76104831e-01  1.54275326e-03  2.34747151e-04]]\n"
          ]
        }
      ],
      "source": [
        "#print out intercept and coefficients\n",
        "print(\"Intercept: \", log_regress.intercept_)  \n",
        "print(\"Coefficient: \", log_regress.coef_)"
      ]
    },
    {
      "cell_type": "markdown",
      "metadata": {
        "id": "eQsTZqy9elnt"
      },
      "source": [
        "Predict the model"
      ]
    },
    {
      "cell_type": "code",
      "execution_count": 44,
      "metadata": {
        "id": "qQH45jLEelnt"
      },
      "outputs": [],
      "source": [
        "preds = log_regress.predict(X=test_set.loc[:,[\"sex\", \"pclass\",\"fare\", \"age\"]])"
      ]
    },
    {
      "cell_type": "markdown",
      "metadata": {
        "id": "TodFkX9pelnu"
      },
      "source": [
        "Print and plot the confusion matrix"
      ]
    },
    {
      "cell_type": "code",
      "execution_count": 45,
      "metadata": {
        "colab": {
          "base_uri": "https://localhost:8080/"
        },
        "id": "WAuTDIwZelnv",
        "outputId": "89f447b5-52e2-4d1c-ecfa-e65d9285d584"
      },
      "outputs": [
        {
          "name": "stdout",
          "output_type": "stream",
          "text": [
            "\n",
            "---Confusion Matrix---\n",
            "survived    0    1\n",
            "row_0             \n",
            "0         227   50\n",
            "1          40  114\n"
          ]
        }
      ],
      "source": [
        "print(\"\\n---Confusion Matrix---\")\n",
        "print(pd.crosstab(preds, test_labels))"
      ]
    },
    {
      "cell_type": "code",
      "execution_count": 46,
      "metadata": {
        "colab": {
          "base_uri": "https://localhost:8080/",
          "height": 284
        },
        "id": "D3xLgMDJelnv",
        "outputId": "544db77d-8e2d-4677-e00d-7d2d91be209c"
      },
      "outputs": [
        {
          "data": {
            "text/plain": [
              "<matplotlib.axes._subplots.AxesSubplot at 0x7eff926adc50>"
            ]
          },
          "execution_count": 46,
          "metadata": {},
          "output_type": "execute_result"
        },
        {
          "data": {
            "image/png": "[encoded data removed]",
            "text/plain": [
              "<Figure size 432x288 with 2 Axes>"
            ]
          },
          "metadata": {
            "needs_background": "light"
          },
          "output_type": "display_data"
        }
      ],
      "source": [
        "# Get confusion matrix\n",
        "from sklearn.metrics import confusion_matrix\n",
        "cf_matrix = confusion_matrix(test_labels, preds)\n",
        "group_names = ['True Neg','False Pos','False Neg','True Pos']\n",
        "group_counts = [\"{0:0.0f}\".format(value) for value in\n",
        "cf_matrix.flatten()]\n",
        "group_percentages = [\"{0:.2%}\".format(value) for value in\n",
        "cf_matrix.flatten()/np.sum(cf_matrix)]\n",
        "labels = [f\"{v1}\\n{v2}\\n{v3}\" for v1, v2, v3 in\n",
        "zip(group_names,group_counts,group_percentages)]\n",
        "labels = np.asarray(labels).reshape(2,2)\n",
        "sns.heatmap(cf_matrix, annot=labels, fmt='', cmap='Blues')"
      ]
    },
    {
      "cell_type": "markdown",
      "metadata": {
        "id": "Z0u0wIzLelnw"
      },
      "source": [
        "Get the accuracy of the prediction"
      ]
    },
    {
      "cell_type": "code",
      "execution_count": 47,
      "metadata": {
        "colab": {
          "base_uri": "https://localhost:8080/"
        },
        "id": "u6RxXqq0elnx",
        "outputId": "4017676a-3ecd-4f12-acef-9f8b6a424525"
      },
      "outputs": [
        {
          "name": "stdout",
          "output_type": "stream",
          "text": [
            "\n",
            "---Accuracy---\n",
            "0.7911832946635731\n"
          ]
        }
      ],
      "source": [
        "#---get the accuracy of the prediction---\n",
        "print(\"\\n---Accuracy---\")\n",
        "print(log_regress.score(X = test_set.loc[:,[\"sex\", \"pclass\",\"fare\", \"age\"]] ,\n",
        "                        y = test_labels))"
      ]
    },
    {
      "cell_type": "markdown",
      "metadata": {
        "id": "RQQBrTjielny"
      },
      "source": [
        "View summary of common classification metrics"
      ]
    },
    {
      "cell_type": "code",
      "execution_count": 48,
      "metadata": {
        "colab": {
          "base_uri": "https://localhost:8080/"
        },
        "id": "GOJZdmS9elnz",
        "outputId": "5da0eba7-906a-40f7-d0ac-eba3daef5695"
      },
      "outputs": [
        {
          "name": "stdout",
          "output_type": "stream",
          "text": [
            "\n",
            "---Metrices---\n",
            "              precision    recall  f1-score   support\n",
            "\n",
            "           0       0.82      0.85      0.83       267\n",
            "           1       0.74      0.70      0.72       164\n",
            "\n",
            "    accuracy                           0.79       431\n",
            "   macro avg       0.78      0.77      0.78       431\n",
            "weighted avg       0.79      0.79      0.79       431\n",
            "\n"
          ]
        }
      ],
      "source": [
        "# View summary of common classification metrics\n",
        "print(\"\\n---Metrices---\")\n",
        "print(metrics.classification_report(\n",
        "      y_true = test_labels,\n",
        "      y_pred = preds))"
      ]
    },
    {
      "cell_type": "markdown",
      "metadata": {
        "id": "UiO7D3LMeln0"
      },
      "source": [
        "Receiver Operating Characteristic (ROC) Curve"
      ]
    },
    {
      "cell_type": "code",
      "execution_count": 49,
      "metadata": {
        "colab": {
          "base_uri": "https://localhost:8080/",
          "height": 295
        },
        "id": "13-vd7ORqeNr",
        "outputId": "e32e9d34-4af8-4688-d5db-868dbc4250d0"
      },
      "outputs": [
        {
          "data": {
            "image/png": "[encoded data removed]",
            "text/plain": [
              "<Figure size 432x288 with 1 Axes>"
            ]
          },
          "metadata": {
            "needs_background": "light"
          },
          "output_type": "display_data"
        }
      ],
      "source": [
        "#---------Receiver Operating Characteristic (ROC) Curve---------\n",
        "from sklearn.metrics import roc_curve, auc\n",
        "\n",
        "#---find the predicted probabilities using the test set\n",
        "probs = log_regress.predict_proba(test_set.loc[:,[\"sex\", \"pclass\",\"fare\", \"age\"]])\n",
        "preds = probs[:,1]\n",
        "\n",
        "#---find the FPR, TPR, and threshold---\n",
        "fpr, tpr, threshold = roc_curve(test_labels, preds)\n",
        "\n",
        "#---find the area under the curve---\n",
        "roc_auc = auc(fpr, tpr)\n",
        "\n",
        "import matplotlib.pyplot as plt\n",
        "plt.plot(fpr, tpr, 'b', label = 'AUC = %0.2f' % roc_auc)\n",
        "plt.plot([0, 1], [0, 1],'r--')\n",
        "plt.xlim([0, 1])\n",
        "plt.ylim([0, 1])\n",
        "plt.ylabel('True Positive Rate (TPR)')\n",
        "plt.xlabel('False Positive Rate (FPR)')\n",
        "plt.title('Receiver Operating Characteristic (ROC)')\n",
        "plt.legend(loc = 'lower right')\n",
        "plt.show()"
      ]
    },
    {
      "cell_type": "markdown",
      "metadata": {
        "id": "fblF-8P88-F8"
      },
      "source": [
        "Using the coefficient and intercept value calculated above are as follows:\n",
        "\n",
        "    Intercept:  [2.60048375]\n",
        "    Coefficient:  [[-2.33397762e+00 -7.76104831e-01  1.54275326e-03  2.34747150e-04]]\n",
        "\n",
        "Using this the Model equation becomes\n",
        "\n",
        "the sigmoid function:\n",
        "$$Prob(x_1, x_2, x_3, x_4) = \\frac{1}{1+e^{-(2.6-2.33{x_1}-0.78{x_2}-0.0015{x_3}-0.00023{x_4})}}$$\n",
        "\n",
        "Despite the age variable being added to the model, it did not improve accuracy and AUC values, compared to model 2. By looking at the coefficient of age variable, it is very small compared to sex and pclass variables, which shows the age variable does not have a significant influence for the model. "
      ]
    },
    {
      "cell_type": "markdown",
      "metadata": {
        "id": "mhAtNneBqeW8"
      },
      "source": [
        "##### Conclusion\n",
        "In this assignment, I built a logistic regression model that predict the survival of Titanic passengers. \n",
        "1. From the exploratory data analysis and correlation matrix, sex and passenger class varriables, along with a few other features, seemed to impact the chance of survival. \n",
        "2. I built three models to compare their performance. \n",
        "3. Model 1 was built with only sex variable, model 2 with three variables, and model 3 with four variables. \n",
        "4. By looking at the accuracy and AUC values, model 2 produced a better result than model 1, which indicates having three predictive features is better than having just one. \n",
        "5. Although model 2 and model 3 produced the same performance, model 2 is less complex as it uses only three predictive variables. \n",
        "6. I will conclude that model 2 is the best model to predict survival of titanic passengers.\n",
        "\n",
        "The final model equation:\n",
        "$$Prob(x_1, x_2, x_3) = \\frac{1}{1+e^{-(2.6-2.33{x_1}-0.78{x_2}-0.0015{x_3})}}$$"
      ]
    }
  ],
  "metadata": {
    "colab": {
      "collapsed_sections": [],
      "name": "jsemekar-5.ipynb",
      "provenance": []
    },
    "kernelspec": {
      "display_name": "Python 3",
      "name": "python3"
    },
    "language_info": {
      "codemirror_mode": {
        "name": "ipython",
        "version": 3
      },
      "file_extension": ".py",
      "mimetype": "text/x-python",
      "name": "python",
      "nbconvert_exporter": "python",
      "pygments_lexer": "ipython3",
      "version": "3.9.7"
    }
  },
  "nbformat": 4,
  "nbformat_minor": 0
}
